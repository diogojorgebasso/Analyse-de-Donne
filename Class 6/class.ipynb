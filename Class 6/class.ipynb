{
 "cells": [
  {
   "cell_type": "code",
   "execution_count": 3,
   "metadata": {
    "vscode": {
     "languageId": "r"
    }
   },
   "outputs": [],
   "source": [
    "Exercice sur les vins de Bordeaux"
   ]
  },
  {
   "cell_type": "code",
   "execution_count": 2,
   "metadata": {
    "vscode": {
     "languageId": "r"
    }
   },
   "outputs": [
    {
     "data": {
      "text/html": [
       "<table class=\"dataframe\">\n",
       "<caption>A data.frame: 34 × 5</caption>\n",
       "<thead>\n",
       "\t<tr><th scope=col>Temperature..C.</th><th scope=col>Sun..h.</th><th scope=col>Heat..days.</th><th scope=col>Rain..mm.</th><th scope=col>Quality</th></tr>\n",
       "\t<tr><th scope=col>&lt;int&gt;</th><th scope=col>&lt;int&gt;</th><th scope=col>&lt;int&gt;</th><th scope=col>&lt;int&gt;</th><th scope=col>&lt;chr&gt;</th></tr>\n",
       "</thead>\n",
       "<tbody>\n",
       "\t<tr><td>3064</td><td>1201</td><td>10</td><td>361</td><td>medium</td></tr>\n",
       "\t<tr><td>3000</td><td>1053</td><td>11</td><td>338</td><td>bad   </td></tr>\n",
       "\t<tr><td>3155</td><td>1133</td><td>19</td><td>393</td><td>medium</td></tr>\n",
       "\t<tr><td>3085</td><td> 970</td><td> 4</td><td>467</td><td>bad   </td></tr>\n",
       "\t<tr><td>3245</td><td>1258</td><td>36</td><td>294</td><td>good  </td></tr>\n",
       "\t<tr><td>3267</td><td>1386</td><td>35</td><td>225</td><td>good  </td></tr>\n",
       "\t<tr><td>3080</td><td> 966</td><td>13</td><td>417</td><td>bad   </td></tr>\n",
       "\t<tr><td>2974</td><td>1189</td><td>12</td><td>488</td><td>bad   </td></tr>\n",
       "\t<tr><td>3038</td><td>1103</td><td>14</td><td>677</td><td>bad   </td></tr>\n",
       "\t<tr><td>3318</td><td>1310</td><td>29</td><td>427</td><td>medium</td></tr>\n",
       "\t<tr><td>3317</td><td>1362</td><td>25</td><td>326</td><td>good  </td></tr>\n",
       "\t<tr><td>3182</td><td>1171</td><td>28</td><td>326</td><td>bad   </td></tr>\n",
       "\t<tr><td>2998</td><td>1102</td><td> 9</td><td>349</td><td>bad   </td></tr>\n",
       "\t<tr><td>3221</td><td>1424</td><td>21</td><td>382</td><td>good  </td></tr>\n",
       "\t<tr><td>3019</td><td>1230</td><td>16</td><td>275</td><td>medium</td></tr>\n",
       "\t<tr><td>3022</td><td>1285</td><td> 9</td><td>303</td><td>medium</td></tr>\n",
       "\t<tr><td>3094</td><td>1329</td><td>11</td><td>339</td><td>medium</td></tr>\n",
       "\t<tr><td>3009</td><td>1210</td><td>15</td><td>536</td><td>bad   </td></tr>\n",
       "\t<tr><td>3227</td><td>1331</td><td>21</td><td>414</td><td>medium</td></tr>\n",
       "\t<tr><td>3308</td><td>1366</td><td>24</td><td>282</td><td>good  </td></tr>\n",
       "\t<tr><td>3212</td><td>1289</td><td>17</td><td>302</td><td>medium</td></tr>\n",
       "\t<tr><td>3361</td><td>1444</td><td>25</td><td>253</td><td>good  </td></tr>\n",
       "\t<tr><td>3061</td><td>1175</td><td>12</td><td>261</td><td>medium</td></tr>\n",
       "\t<tr><td>3478</td><td>1317</td><td>42</td><td>259</td><td>good  </td></tr>\n",
       "\t<tr><td>3126</td><td>1248</td><td>11</td><td>315</td><td>medium</td></tr>\n",
       "\t<tr><td>3458</td><td>1508</td><td>43</td><td>286</td><td>good  </td></tr>\n",
       "\t<tr><td>3252</td><td>1361</td><td>26</td><td>346</td><td>medium</td></tr>\n",
       "\t<tr><td>3052</td><td>1186</td><td>14</td><td>443</td><td>bad   </td></tr>\n",
       "\t<tr><td>3270</td><td>1399</td><td>24</td><td>306</td><td>good  </td></tr>\n",
       "\t<tr><td>3198</td><td>1259</td><td>20</td><td>367</td><td>good  </td></tr>\n",
       "\t<tr><td>2904</td><td>1164</td><td> 6</td><td>311</td><td>bad   </td></tr>\n",
       "\t<tr><td>3247</td><td>1277</td><td>19</td><td>375</td><td>good  </td></tr>\n",
       "\t<tr><td>3083</td><td>1195</td><td> 5</td><td>441</td><td>bad   </td></tr>\n",
       "\t<tr><td>3043</td><td>1208</td><td>14</td><td>371</td><td>bad   </td></tr>\n",
       "</tbody>\n",
       "</table>\n"
      ],
      "text/latex": [
       "A data.frame: 34 × 5\n",
       "\\begin{tabular}{lllll}\n",
       " Temperature..C. & Sun..h. & Heat..days. & Rain..mm. & Quality\\\\\n",
       " <int> & <int> & <int> & <int> & <chr>\\\\\n",
       "\\hline\n",
       "\t 3064 & 1201 & 10 & 361 & medium\\\\\n",
       "\t 3000 & 1053 & 11 & 338 & bad   \\\\\n",
       "\t 3155 & 1133 & 19 & 393 & medium\\\\\n",
       "\t 3085 &  970 &  4 & 467 & bad   \\\\\n",
       "\t 3245 & 1258 & 36 & 294 & good  \\\\\n",
       "\t 3267 & 1386 & 35 & 225 & good  \\\\\n",
       "\t 3080 &  966 & 13 & 417 & bad   \\\\\n",
       "\t 2974 & 1189 & 12 & 488 & bad   \\\\\n",
       "\t 3038 & 1103 & 14 & 677 & bad   \\\\\n",
       "\t 3318 & 1310 & 29 & 427 & medium\\\\\n",
       "\t 3317 & 1362 & 25 & 326 & good  \\\\\n",
       "\t 3182 & 1171 & 28 & 326 & bad   \\\\\n",
       "\t 2998 & 1102 &  9 & 349 & bad   \\\\\n",
       "\t 3221 & 1424 & 21 & 382 & good  \\\\\n",
       "\t 3019 & 1230 & 16 & 275 & medium\\\\\n",
       "\t 3022 & 1285 &  9 & 303 & medium\\\\\n",
       "\t 3094 & 1329 & 11 & 339 & medium\\\\\n",
       "\t 3009 & 1210 & 15 & 536 & bad   \\\\\n",
       "\t 3227 & 1331 & 21 & 414 & medium\\\\\n",
       "\t 3308 & 1366 & 24 & 282 & good  \\\\\n",
       "\t 3212 & 1289 & 17 & 302 & medium\\\\\n",
       "\t 3361 & 1444 & 25 & 253 & good  \\\\\n",
       "\t 3061 & 1175 & 12 & 261 & medium\\\\\n",
       "\t 3478 & 1317 & 42 & 259 & good  \\\\\n",
       "\t 3126 & 1248 & 11 & 315 & medium\\\\\n",
       "\t 3458 & 1508 & 43 & 286 & good  \\\\\n",
       "\t 3252 & 1361 & 26 & 346 & medium\\\\\n",
       "\t 3052 & 1186 & 14 & 443 & bad   \\\\\n",
       "\t 3270 & 1399 & 24 & 306 & good  \\\\\n",
       "\t 3198 & 1259 & 20 & 367 & good  \\\\\n",
       "\t 2904 & 1164 &  6 & 311 & bad   \\\\\n",
       "\t 3247 & 1277 & 19 & 375 & good  \\\\\n",
       "\t 3083 & 1195 &  5 & 441 & bad   \\\\\n",
       "\t 3043 & 1208 & 14 & 371 & bad   \\\\\n",
       "\\end{tabular}\n"
      ],
      "text/markdown": [
       "\n",
       "A data.frame: 34 × 5\n",
       "\n",
       "| Temperature..C. &lt;int&gt; | Sun..h. &lt;int&gt; | Heat..days. &lt;int&gt; | Rain..mm. &lt;int&gt; | Quality &lt;chr&gt; |\n",
       "|---|---|---|---|---|\n",
       "| 3064 | 1201 | 10 | 361 | medium |\n",
       "| 3000 | 1053 | 11 | 338 | bad    |\n",
       "| 3155 | 1133 | 19 | 393 | medium |\n",
       "| 3085 |  970 |  4 | 467 | bad    |\n",
       "| 3245 | 1258 | 36 | 294 | good   |\n",
       "| 3267 | 1386 | 35 | 225 | good   |\n",
       "| 3080 |  966 | 13 | 417 | bad    |\n",
       "| 2974 | 1189 | 12 | 488 | bad    |\n",
       "| 3038 | 1103 | 14 | 677 | bad    |\n",
       "| 3318 | 1310 | 29 | 427 | medium |\n",
       "| 3317 | 1362 | 25 | 326 | good   |\n",
       "| 3182 | 1171 | 28 | 326 | bad    |\n",
       "| 2998 | 1102 |  9 | 349 | bad    |\n",
       "| 3221 | 1424 | 21 | 382 | good   |\n",
       "| 3019 | 1230 | 16 | 275 | medium |\n",
       "| 3022 | 1285 |  9 | 303 | medium |\n",
       "| 3094 | 1329 | 11 | 339 | medium |\n",
       "| 3009 | 1210 | 15 | 536 | bad    |\n",
       "| 3227 | 1331 | 21 | 414 | medium |\n",
       "| 3308 | 1366 | 24 | 282 | good   |\n",
       "| 3212 | 1289 | 17 | 302 | medium |\n",
       "| 3361 | 1444 | 25 | 253 | good   |\n",
       "| 3061 | 1175 | 12 | 261 | medium |\n",
       "| 3478 | 1317 | 42 | 259 | good   |\n",
       "| 3126 | 1248 | 11 | 315 | medium |\n",
       "| 3458 | 1508 | 43 | 286 | good   |\n",
       "| 3252 | 1361 | 26 | 346 | medium |\n",
       "| 3052 | 1186 | 14 | 443 | bad    |\n",
       "| 3270 | 1399 | 24 | 306 | good   |\n",
       "| 3198 | 1259 | 20 | 367 | good   |\n",
       "| 2904 | 1164 |  6 | 311 | bad    |\n",
       "| 3247 | 1277 | 19 | 375 | good   |\n",
       "| 3083 | 1195 |  5 | 441 | bad    |\n",
       "| 3043 | 1208 | 14 | 371 | bad    |\n",
       "\n"
      ],
      "text/plain": [
       "   Temperature..C. Sun..h. Heat..days. Rain..mm. Quality\n",
       "1  3064            1201    10          361       medium \n",
       "2  3000            1053    11          338       bad    \n",
       "3  3155            1133    19          393       medium \n",
       "4  3085             970     4          467       bad    \n",
       "5  3245            1258    36          294       good   \n",
       "6  3267            1386    35          225       good   \n",
       "7  3080             966    13          417       bad    \n",
       "8  2974            1189    12          488       bad    \n",
       "9  3038            1103    14          677       bad    \n",
       "10 3318            1310    29          427       medium \n",
       "11 3317            1362    25          326       good   \n",
       "12 3182            1171    28          326       bad    \n",
       "13 2998            1102     9          349       bad    \n",
       "14 3221            1424    21          382       good   \n",
       "15 3019            1230    16          275       medium \n",
       "16 3022            1285     9          303       medium \n",
       "17 3094            1329    11          339       medium \n",
       "18 3009            1210    15          536       bad    \n",
       "19 3227            1331    21          414       medium \n",
       "20 3308            1366    24          282       good   \n",
       "21 3212            1289    17          302       medium \n",
       "22 3361            1444    25          253       good   \n",
       "23 3061            1175    12          261       medium \n",
       "24 3478            1317    42          259       good   \n",
       "25 3126            1248    11          315       medium \n",
       "26 3458            1508    43          286       good   \n",
       "27 3252            1361    26          346       medium \n",
       "28 3052            1186    14          443       bad    \n",
       "29 3270            1399    24          306       good   \n",
       "30 3198            1259    20          367       good   \n",
       "31 2904            1164     6          311       bad    \n",
       "32 3247            1277    19          375       good   \n",
       "33 3083            1195     5          441       bad    \n",
       "34 3043            1208    14          371       bad    "
      ]
     },
     "metadata": {},
     "output_type": "display_data"
    }
   ],
   "source": [
    "vins <- read.csv2(\"vins.csv\", header = TRUE)\n",
    "vins"
   ]
  },
  {
   "cell_type": "markdown",
   "metadata": {},
   "source": [
    "34 obs et 5 variables dont la variable qualit� qui d�finit les groupes"
   ]
  },
  {
   "cell_type": "code",
   "execution_count": 1,
   "metadata": {
    "vscode": {
     "languageId": "r"
    }
   },
   "outputs": [
    {
     "ename": "ERROR",
     "evalue": "Error: objeto 'vins' não encontrado\n",
     "output_type": "error",
     "traceback": [
      "Error: objeto 'vins' não encontrado\nTraceback:\n",
      "1. .handleSimpleError(function (cnd) \n . {\n .     watcher$capture_plot_and_output()\n .     cnd <- sanitize_call(cnd)\n .     watcher$push(cnd)\n .     switch(on_error, continue = invokeRestart(\"eval_continue\"), \n .         stop = invokeRestart(\"eval_stop\"), error = invokeRestart(\"eval_error\", \n .             cnd))\n . }, \"objeto 'vins' não encontrado\", base::quote(eval(expr, envir)))"
     ]
    }
   ],
   "source": [
    "summary(vins)"
   ]
  },
  {
   "cell_type": "code",
   "execution_count": null,
   "metadata": {
    "vscode": {
     "languageId": "r"
    }
   },
   "outputs": [],
   "source": [
    "par(mfrow = c(2, 2))\n",
    "\n",
    "hist(vins$Temperature)\n",
    "hist(vins$Sun)\n",
    "hist(vins$Heat)\n",
    "hist(vins$Rain)"
   ]
  },
  {
   "cell_type": "code",
   "execution_count": null,
   "id": "01JA84A5Z9XHMQWW3VKYXYAX8Y",
   "metadata": {
    "vscode": {
     "languageId": "r"
    }
   },
   "outputs": [],
   "source": [
    "summary(manova(as.matrix(vins[, 1:4]) ~ vins[, 5]), test = \"Wilks\")"
   ]
  },
  {
   "cell_type": "code",
   "execution_count": null,
   "metadata": {
    "vscode": {
     "languageId": "r"
    }
   },
   "outputs": [],
   "source": [
    "vins2 <- split(vins[, c(1, 2, 3, 4)], vins[, 5])\n",
    "vins2"
   ]
  },
  {
   "cell_type": "code",
   "execution_count": null,
   "metadata": {
    "vscode": {
     "languageId": "r"
    }
   },
   "outputs": [],
   "source": [
    "summary(vins2$bad)\n",
    "summary(vins2$good)\n",
    "summary(vins2$medium)"
   ]
  },
  {
   "cell_type": "code",
   "execution_count": null,
   "metadata": {
    "vscode": {
     "languageId": "r"
    }
   },
   "outputs": [],
   "source": [
    "\n",
    "boxplot(Temperature ~ Quality, \n",
    "        data = vins, \n",
    "        xlab = \"Quality\", \n",
    "        ylab = \"Temperature\")\n",
    "boxplot(Sun ~ Quality, data = vins, xlab = \"Quality\", ylab = \"Sun\")\n",
    "boxplot(Heat ~ Quality, data = vins, xlab = \"Quality\", ylab = \"Heat\")\n",
    "boxplot(Rain ~ Quality, data = vins, xlab = \"Quality\", ylab = \"Rain\")"
   ]
  },
  {
   "cell_type": "code",
   "execution_count": null,
   "metadata": {
    "vscode": {
     "languageId": "r"
    }
   },
   "outputs": [],
   "source": [
    "res.pca <- PCA(vins[, 1:4])"
   ]
  },
  {
   "cell_type": "code",
   "execution_count": null,
   "metadata": {
    "vscode": {
     "languageId": "r"
    }
   },
   "outputs": [],
   "source": [
    "modele <- aov(Temperature ~ Quality, data = vins)\n",
    "summary(modele)\n",
    "\n",
    "modele1 <- aov(Sun ~ Quality, data = vins)\n",
    "summary(modele1)\n",
    "\n",
    "modele2 <- aov(Heat ~ Quality, data = vins)\n",
    "summary(modele2)\n",
    "\n",
    "modele3 <- aov(Rain ~ Quality, data = vins)\n",
    "summary(modele3)"
   ]
  },
  {
   "cell_type": "code",
   "execution_count": null,
   "metadata": {
    "vscode": {
     "languageId": "r"
    }
   },
   "outputs": [],
   "source": [
    "modele1 <- lda(Quality ~ ., data = vins)\n",
    "modele1\n",
    "\n",
    "modele2 <- lda(Quality ~ Temperature + Sun + Heat, data = vins)\n",
    "modele2\n",
    "\n",
    "modele3 <- lda(Quality ~ Temperature + Sun + Rain, data = vins)\n",
    "modele3"
   ]
  },
  {
   "cell_type": "code",
   "execution_count": null,
   "metadata": {
    "vscode": {
     "languageId": "r"
    }
   },
   "outputs": [],
   "source": [
    "modele3$scaling"
   ]
  },
  {
   "cell_type": "code",
   "execution_count": null,
   "metadata": {
    "vscode": {
     "languageId": "r"
    }
   },
   "outputs": [],
   "source": [
    "plot(modele3, col = as.numeric(vins$Quality))"
   ]
  },
  {
   "cell_type": "code",
   "execution_count": null,
   "metadata": {
    "vscode": {
     "languageId": "r"
    }
   },
   "outputs": [],
   "source": [
    "modele3_pred <- predict(modele3, newdata = vins)\n",
    "modele3_pred$class\n",
    "modele3_pred$posterior\n",
    "modele3_pred$x"
   ]
  },
  {
   "cell_type": "code",
   "execution_count": null,
   "metadata": {
    "vscode": {
     "languageId": "r"
    }
   },
   "outputs": [],
   "source": [
    "modele4 <- lda(Quality ~ Temperature + Heat + Rain, data = vins)\n",
    "modele4"
   ]
  },
  {
   "cell_type": "code",
   "execution_count": null,
   "metadata": {
    "vscode": {
     "languageId": "r"
    }
   },
   "outputs": [],
   "source": [
    "prev1 <- lda(Quality ~ ., data = vins, CV = TRUE)$class\n",
    "table(prev1, vins$Quality)\n",
    "sum(prev1 != vins$Quality) / nrow(vins)\n",
    "\n",
    "prev2 <- lda(Quality ~ Temperature + Sun + Heat, data = vins, CV = TRUE)$class\n",
    "table(prev2, vins$Quality)\n",
    "sum(prev2 != vins$Quality) / nrow(vins)\n",
    "\n",
    "prev3 <- lda(Quality ~ Temperature + Sun + Rain, data = vins, CV = TRUE)$class\n",
    "table(prev3, vins$Quality)\n",
    "sum(prev3 != vins$Quality) / nrow(vins)\n",
    "\n",
    "prev4 <- lda(Quality ~ Temperature + Heat + Rain, data = vins, CV = TRUE)$class\n",
    "table(prev4, vins$Quality)\n",
    "sum(prev4 != vins$Quality) / nrow(vins)\n"
   ]
  },
  {
   "cell_type": "code",
   "execution_count": null,
   "metadata": {
    "vscode": {
     "languageId": "r"
    }
   },
   "outputs": [],
   "source": [
    "n_don1 <- matrix(c(3000, 1100, 20, 300), ncol = 4, byrow = T)\n",
    "n_don1 <- data.frame(n_don1)\n",
    "names(n_don1) <- names(vins)[-5]\n",
    "n_don1\n",
    "predict(modele3, newdata = n_don1)"
   ]
  },
  {
   "cell_type": "code",
   "execution_count": null,
   "metadata": {
    "vscode": {
     "languageId": "r"
    }
   },
   "outputs": [],
   "source": [
    "greedy.wilks(Quality ~ ., data = vins, niveau = 0.1)"
   ]
  }
 ],
 "metadata": {
  "kernelspec": {
   "display_name": "R",
   "language": "R",
   "name": "ir"
  },
  "language_info": {
   "codemirror_mode": "r",
   "file_extension": ".r",
   "mimetype": "text/x-r-source",
   "name": "R",
   "pygments_lexer": "r",
   "version": "4.4.1"
  }
 },
 "nbformat": 4,
 "nbformat_minor": 2
}
