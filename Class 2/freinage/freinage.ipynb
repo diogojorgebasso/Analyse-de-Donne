{
  "cells": [
    {
      "cell_type": "markdown",
      "metadata": {},
      "source": [
        "# Analyse de Donne - Class 2 - Freinage\n"
      ]
    },
    {
      "cell_type": "code",
      "metadata": {},
      "source": [
        "# EX 1\n",
        "setwd(\"c:/Users/diogo/code/Analyse de Donne/Class 2/freinage\")\n",
        "\n",
        "freinage <- read.table(\"freinage.txt\", header = TRUE, encoding = \"UTF-8\")\n",
        "freinage\n"
      ],
      "execution_count": null,
      "outputs": []
    },
    {
      "cell_type": "code",
      "metadata": {},
      "source": [
        "# EX 2\n",
        "plot(freinage$Vitesse, freinage$distance,\n",
        "     xlab = \"Vitesse (km/h)\",\n",
        "     ylab = \"Distance de freinage (m)\",\n",
        "     main = \"Distance de freinage en fonction de la vitesse\"\n",
        ")\n"
      ],
      "execution_count": null,
      "outputs": []
    },
    {
      "cell_type": "code",
      "metadata": {},
      "source": [
        "# EX 3\n",
        "correlation <- cor(freinage$vitesse, freinage$distance)\n",
        "test_correlation <- cor.test(freinage$vitesse, freinage$distance)\n"
      ],
      "execution_count": null,
      "outputs": []
    },
    {
      "cell_type": "code",
      "metadata": {},
      "source": [
        "# EX 4\n",
        "modele <- lm(distance ~ vitesse, data = freinage)\n"
      ],
      "execution_count": null,
      "outputs": []
    },
    {
      "cell_type": "code",
      "metadata": {},
      "source": [
        "# EX 5\n",
        "coefficients(modele)\n",
        "\n",
        "plot(freinage$vitesse, freinage$distance,\n",
        "     xlab = \"Vitesse (km/h)\",\n",
        "     ylab = \"Distance de freinage (m)\",\n",
        "     main = \"Distance de freinage en fonction de la vitesse\"\n",
        ")\n",
        "abline(modele, col = \"red\")\n"
      ],
      "execution_count": null,
      "outputs": []
    },
    {
      "cell_type": "code",
      "metadata": {},
      "source": [
        "# EX 6\n",
        "ecart_type_residuel <- summary(modele)$sigma\n"
      ],
      "execution_count": null,
      "outputs": []
    },
    {
      "cell_type": "code",
      "metadata": {},
      "source": [
        "# EX 7\n",
        "r_carre <- summary(modele)$r.squared\n"
      ],
      "execution_count": null,
      "outputs": []
    },
    {
      "cell_type": "code",
      "metadata": {},
      "source": [
        "# EX 8\n",
        "summary(modele)\n"
      ],
      "execution_count": null,
      "outputs": []
    },
    {
      "cell_type": "code",
      "metadata": {},
      "source": [
        "# EX 9\n",
        "confint(modele, level = 0.95)\n"
      ],
      "execution_count": null,
      "outputs": []
    },
    {
      "cell_type": "code",
      "metadata": {},
      "source": [
        "# EX 10\n",
        "par(mfrow = c(2, 2))\n",
        "plot(modele)\n"
      ],
      "execution_count": null,
      "outputs": []
    },
    {
      "cell_type": "code",
      "metadata": {},
      "source": [
        "# EX 11\n",
        "freinage$vitesse2 <- freinage$vitesse^2\n"
      ],
      "execution_count": null,
      "outputs": []
    },
    {
      "cell_type": "code",
      "metadata": {},
      "source": [
        "# EX 12\n",
        "modele_nouveau <- lm(distance ~ vitesse + I(vitesse^2), data = freinage)\n"
      ],
      "execution_count": null,
      "outputs": []
    },
    {
      "cell_type": "code",
      "metadata": {},
      "source": [
        "# EX 13\n",
        "nouvelle_vitesse <- data.frame(vitesse = 60)\n",
        "distance_predite <- predict(modele, newdata = nouvelle_vitesse)\n"
      ],
      "execution_count": null,
      "outputs": []
    },
    {
      "cell_type": "code",
      "metadata": {},
      "source": [
        "# EX 14\n",
        "xnew <- 3600\n",
        "xnew <- as.data.frame(xnew)\n"
      ],
      "execution_count": null,
      "outputs": []
    }
  ],
  "metadata": {
    "kernelspec": {
      "display_name": "R",
      "language": "R",
      "name": "ir"
    },
    "language_info": {
      "codemirror_mode": "r",
      "file_extension": ".r",
      "mimetype": "text/x-r-source",
      "name": "R",
      "pygments_lexer": "r",
      "version": "4.0.2"
    }
  },
  "nbformat": 4,
  "nbformat_minor": 2
}