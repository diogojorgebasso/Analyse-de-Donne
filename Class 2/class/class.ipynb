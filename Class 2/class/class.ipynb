{
 "cells": [
  {
   "cell_type": "markdown",
   "metadata": {},
   "source": [
    "# Hald"
   ]
  },
  {
   "cell_type": "code",
   "execution_count": 3,
   "metadata": {
    "vscode": {
     "languageId": "r"
    }
   },
   "outputs": [
    {
     "data": {
      "text/html": [
       "<table class=\"dataframe\">\n",
       "<caption>A data.frame: 13 × 5</caption>\n",
       "<thead>\n",
       "\t<tr><th scope=col>X1</th><th scope=col>X2</th><th scope=col>X3</th><th scope=col>X4</th><th scope=col>Y</th></tr>\n",
       "\t<tr><th scope=col>&lt;int&gt;</th><th scope=col>&lt;int&gt;</th><th scope=col>&lt;int&gt;</th><th scope=col>&lt;int&gt;</th><th scope=col>&lt;dbl&gt;</th></tr>\n",
       "</thead>\n",
       "<tbody>\n",
       "\t<tr><td> 7</td><td>26</td><td> 6</td><td>60</td><td> 78.5</td></tr>\n",
       "\t<tr><td> 1</td><td>29</td><td>15</td><td>52</td><td> 74.3</td></tr>\n",
       "\t<tr><td>11</td><td>56</td><td> 8</td><td>20</td><td>104.3</td></tr>\n",
       "\t<tr><td>11</td><td>31</td><td> 8</td><td>47</td><td> 87.6</td></tr>\n",
       "\t<tr><td> 7</td><td>52</td><td> 6</td><td>33</td><td> 95.9</td></tr>\n",
       "\t<tr><td>11</td><td>55</td><td> 9</td><td>22</td><td>109.2</td></tr>\n",
       "\t<tr><td> 3</td><td>71</td><td>17</td><td> 6</td><td>102.7</td></tr>\n",
       "\t<tr><td> 1</td><td>31</td><td>22</td><td>44</td><td> 72.5</td></tr>\n",
       "\t<tr><td> 2</td><td>54</td><td>18</td><td>22</td><td> 93.1</td></tr>\n",
       "\t<tr><td>21</td><td>47</td><td> 4</td><td>26</td><td>115.9</td></tr>\n",
       "\t<tr><td> 1</td><td>40</td><td>23</td><td>34</td><td> 83.8</td></tr>\n",
       "\t<tr><td>11</td><td>66</td><td> 9</td><td>12</td><td>113.3</td></tr>\n",
       "\t<tr><td>10</td><td>68</td><td> 8</td><td>12</td><td>109.4</td></tr>\n",
       "</tbody>\n",
       "</table>\n"
      ],
      "text/latex": [
       "A data.frame: 13 × 5\n",
       "\\begin{tabular}{lllll}\n",
       " X1 & X2 & X3 & X4 & Y\\\\\n",
       " <int> & <int> & <int> & <int> & <dbl>\\\\\n",
       "\\hline\n",
       "\t  7 & 26 &  6 & 60 &  78.5\\\\\n",
       "\t  1 & 29 & 15 & 52 &  74.3\\\\\n",
       "\t 11 & 56 &  8 & 20 & 104.3\\\\\n",
       "\t 11 & 31 &  8 & 47 &  87.6\\\\\n",
       "\t  7 & 52 &  6 & 33 &  95.9\\\\\n",
       "\t 11 & 55 &  9 & 22 & 109.2\\\\\n",
       "\t  3 & 71 & 17 &  6 & 102.7\\\\\n",
       "\t  1 & 31 & 22 & 44 &  72.5\\\\\n",
       "\t  2 & 54 & 18 & 22 &  93.1\\\\\n",
       "\t 21 & 47 &  4 & 26 & 115.9\\\\\n",
       "\t  1 & 40 & 23 & 34 &  83.8\\\\\n",
       "\t 11 & 66 &  9 & 12 & 113.3\\\\\n",
       "\t 10 & 68 &  8 & 12 & 109.4\\\\\n",
       "\\end{tabular}\n"
      ],
      "text/markdown": [
       "\n",
       "A data.frame: 13 × 5\n",
       "\n",
       "| X1 &lt;int&gt; | X2 &lt;int&gt; | X3 &lt;int&gt; | X4 &lt;int&gt; | Y &lt;dbl&gt; |\n",
       "|---|---|---|---|---|\n",
       "|  7 | 26 |  6 | 60 |  78.5 |\n",
       "|  1 | 29 | 15 | 52 |  74.3 |\n",
       "| 11 | 56 |  8 | 20 | 104.3 |\n",
       "| 11 | 31 |  8 | 47 |  87.6 |\n",
       "|  7 | 52 |  6 | 33 |  95.9 |\n",
       "| 11 | 55 |  9 | 22 | 109.2 |\n",
       "|  3 | 71 | 17 |  6 | 102.7 |\n",
       "|  1 | 31 | 22 | 44 |  72.5 |\n",
       "|  2 | 54 | 18 | 22 |  93.1 |\n",
       "| 21 | 47 |  4 | 26 | 115.9 |\n",
       "|  1 | 40 | 23 | 34 |  83.8 |\n",
       "| 11 | 66 |  9 | 12 | 113.3 |\n",
       "| 10 | 68 |  8 | 12 | 109.4 |\n",
       "\n"
      ],
      "text/plain": [
       "   X1 X2 X3 X4 Y    \n",
       "1   7 26  6 60  78.5\n",
       "2   1 29 15 52  74.3\n",
       "3  11 56  8 20 104.3\n",
       "4  11 31  8 47  87.6\n",
       "5   7 52  6 33  95.9\n",
       "6  11 55  9 22 109.2\n",
       "7   3 71 17  6 102.7\n",
       "8   1 31 22 44  72.5\n",
       "9   2 54 18 22  93.1\n",
       "10 21 47  4 26 115.9\n",
       "11  1 40 23 34  83.8\n",
       "12 11 66  9 12 113.3\n",
       "13 10 68  8 12 109.4"
      ]
     },
     "metadata": {},
     "output_type": "display_data"
    }
   ],
   "source": [
    "hald<-read.table(\"hald.txt\",header=T)\n",
    "hald"
   ]
  },
  {
   "cell_type": "code",
   "execution_count": 4,
   "metadata": {
    "vscode": {
     "languageId": "r"
    }
   },
   "outputs": [
    {
     "data": {
      "text/plain": [
       "       X1               X2              X3              X4           Y         \n",
       " Min.   : 1.000   Min.   :26.00   Min.   : 4.00   Min.   : 6   Min.   : 72.50  \n",
       " 1st Qu.: 2.000   1st Qu.:31.00   1st Qu.: 8.00   1st Qu.:20   1st Qu.: 83.80  \n",
       " Median : 7.000   Median :52.00   Median : 9.00   Median :26   Median : 95.90  \n",
       " Mean   : 7.462   Mean   :48.15   Mean   :11.77   Mean   :30   Mean   : 95.42  \n",
       " 3rd Qu.:11.000   3rd Qu.:56.00   3rd Qu.:17.00   3rd Qu.:44   3rd Qu.:109.20  \n",
       " Max.   :21.000   Max.   :71.00   Max.   :23.00   Max.   :60   Max.   :115.90  "
      ]
     },
     "metadata": {},
     "output_type": "display_data"
    }
   ],
   "source": [
    "summary(hald)"
   ]
  },
  {
   "cell_type": "code",
   "execution_count": 5,
   "metadata": {
    "vscode": {
     "languageId": "r"
    }
   },
   "outputs": [
    {
     "data": {
      "image/png": "[encoded data removed]",
      "text/plain": [
       "plot without title"
      ]
     },
     "metadata": {
      "image/png": {
       "height": 420,
       "width": 420
      }
     },
     "output_type": "display_data"
    }
   ],
   "source": [
    "par(mfrow = c(2, 2)) # Dividir a janela gráfica em 2 linhas e 2 colunas\n",
    "\n",
    "plot(Y ~ ., data = hald, pch = 15, cex = .5)\n"
   ]
  },
  {
   "cell_type": "code",
   "execution_count": 6,
   "metadata": {
    "vscode": {
     "languageId": "r"
    }
   },
   "outputs": [
    {
     "data": {
      "text/html": [
       "<table class=\"dataframe\">\n",
       "<caption>A matrix: 5 × 5 of type dbl</caption>\n",
       "<thead>\n",
       "\t<tr><th></th><th scope=col>X1</th><th scope=col>X2</th><th scope=col>X3</th><th scope=col>X4</th><th scope=col>Y</th></tr>\n",
       "</thead>\n",
       "<tbody>\n",
       "\t<tr><th scope=row>X1</th><td> 1.0000000</td><td> 0.2285795</td><td>-0.8241338</td><td>-0.2454451</td><td> 0.7307175</td></tr>\n",
       "\t<tr><th scope=row>X2</th><td> 0.2285795</td><td> 1.0000000</td><td>-0.1392424</td><td>-0.9729550</td><td> 0.8162526</td></tr>\n",
       "\t<tr><th scope=row>X3</th><td>-0.8241338</td><td>-0.1392424</td><td> 1.0000000</td><td> 0.0295370</td><td>-0.5346707</td></tr>\n",
       "\t<tr><th scope=row>X4</th><td>-0.2454451</td><td>-0.9729550</td><td> 0.0295370</td><td> 1.0000000</td><td>-0.8213050</td></tr>\n",
       "\t<tr><th scope=row>Y</th><td> 0.7307175</td><td> 0.8162526</td><td>-0.5346707</td><td>-0.8213050</td><td> 1.0000000</td></tr>\n",
       "</tbody>\n",
       "</table>\n"
      ],
      "text/latex": [
       "A matrix: 5 × 5 of type dbl\n",
       "\\begin{tabular}{r|lllll}\n",
       "  & X1 & X2 & X3 & X4 & Y\\\\\n",
       "\\hline\n",
       "\tX1 &  1.0000000 &  0.2285795 & -0.8241338 & -0.2454451 &  0.7307175\\\\\n",
       "\tX2 &  0.2285795 &  1.0000000 & -0.1392424 & -0.9729550 &  0.8162526\\\\\n",
       "\tX3 & -0.8241338 & -0.1392424 &  1.0000000 &  0.0295370 & -0.5346707\\\\\n",
       "\tX4 & -0.2454451 & -0.9729550 &  0.0295370 &  1.0000000 & -0.8213050\\\\\n",
       "\tY &  0.7307175 &  0.8162526 & -0.5346707 & -0.8213050 &  1.0000000\\\\\n",
       "\\end{tabular}\n"
      ],
      "text/markdown": [
       "\n",
       "A matrix: 5 × 5 of type dbl\n",
       "\n",
       "| <!--/--> | X1 | X2 | X3 | X4 | Y |\n",
       "|---|---|---|---|---|---|\n",
       "| X1 |  1.0000000 |  0.2285795 | -0.8241338 | -0.2454451 |  0.7307175 |\n",
       "| X2 |  0.2285795 |  1.0000000 | -0.1392424 | -0.9729550 |  0.8162526 |\n",
       "| X3 | -0.8241338 | -0.1392424 |  1.0000000 |  0.0295370 | -0.5346707 |\n",
       "| X4 | -0.2454451 | -0.9729550 |  0.0295370 |  1.0000000 | -0.8213050 |\n",
       "| Y |  0.7307175 |  0.8162526 | -0.5346707 | -0.8213050 |  1.0000000 |\n",
       "\n"
      ],
      "text/plain": [
       "   X1         X2         X3         X4         Y         \n",
       "X1  1.0000000  0.2285795 -0.8241338 -0.2454451  0.7307175\n",
       "X2  0.2285795  1.0000000 -0.1392424 -0.9729550  0.8162526\n",
       "X3 -0.8241338 -0.1392424  1.0000000  0.0295370 -0.5346707\n",
       "X4 -0.2454451 -0.9729550  0.0295370  1.0000000 -0.8213050\n",
       "Y   0.7307175  0.8162526 -0.5346707 -0.8213050  1.0000000"
      ]
     },
     "metadata": {},
     "output_type": "display_data"
    }
   ],
   "source": [
    "cor(hald)"
   ]
  },
  {
   "cell_type": "code",
   "execution_count": 8,
   "metadata": {
    "vscode": {
     "languageId": "r"
    }
   },
   "outputs": [
    {
     "data": {
      "text/plain": [
       "\n",
       "Call:\n",
       "lm(formula = Y ~ X1 + X2 + X3 + X4, data = hald)\n",
       "\n",
       "Coefficients:\n",
       "(Intercept)           X1           X2           X3           X4  \n",
       "    62.4054       1.5511       0.5102       0.1019      -0.1441  \n"
      ]
     },
     "metadata": {},
     "output_type": "display_data"
    },
    {
     "data": {
      "text/plain": [
       "\n",
       "Call:\n",
       "lm(formula = Y ~ X1 + X2 + X3 + X4, data = hald)\n",
       "\n",
       "Residuals:\n",
       "    Min      1Q  Median      3Q     Max \n",
       "-3.1750 -1.6709  0.2508  1.3783  3.9254 \n",
       "\n",
       "Coefficients:\n",
       "            Estimate Std. Error t value Pr(>|t|)  \n",
       "(Intercept)  62.4054    70.0710   0.891   0.3991  \n",
       "X1            1.5511     0.7448   2.083   0.0708 .\n",
       "X2            0.5102     0.7238   0.705   0.5009  \n",
       "X3            0.1019     0.7547   0.135   0.8959  \n",
       "X4           -0.1441     0.7091  -0.203   0.8441  \n",
       "---\n",
       "Signif. codes:  0 '***' 0.001 '**' 0.01 '*' 0.05 '.' 0.1 ' ' 1\n",
       "\n",
       "Residual standard error: 2.446 on 8 degrees of freedom\n",
       "Multiple R-squared:  0.9824,\tAdjusted R-squared:  0.9736 \n",
       "F-statistic: 111.5 on 4 and 8 DF,  p-value: 4.756e-07\n"
      ]
     },
     "metadata": {},
     "output_type": "display_data"
    },
    {
     "data": {
      "image/png": "[encoded data removed]",
      "text/plain": [
       "plot without title"
      ]
     },
     "metadata": {
      "image/png": {
       "height": 420,
       "width": 420
      }
     },
     "output_type": "display_data"
    }
   ],
   "source": [
    "regression <- lm(Y ~ X1 + X2 + X3 + X4, data = hald)\n",
    "regression\n",
    "summary(regression)\n",
    "regression2 <- rstudent(regression)\n",
    "plot(regression2 ~ regression$fitted,\n",
    "     pch = 15,\n",
    "     cex = .5,\n",
    "     ylab = \"Résidus\",\n",
    "     xlab = \"Regression\",\n",
    "     ylim = c(-3, 3))\n",
    "abline(h = c(-2, 0, 2), lty = c(2, 1, 2))"
   ]
  },
  {
   "cell_type": "code",
   "execution_count": 9,
   "metadata": {
    "vscode": {
     "languageId": "r"
    }
   },
   "outputs": [],
   "source": [
    "library(leaps)"
   ]
  },
  {
   "cell_type": "code",
   "execution_count": 10,
   "metadata": {
    "vscode": {
     "languageId": "r"
    }
   },
   "outputs": [],
   "source": [
    "leaps <- regsubsets(Y ~ X1 + X2 + X3 + X4, data = hald, nbest = 10)"
   ]
  },
  {
   "cell_type": "code",
   "execution_count": null,
   "metadata": {
    "vscode": {
     "languageId": "r"
    }
   },
   "outputs": [],
   "source": [
    "plot(leaps, scale = \"adjr2\")\n",
    "step(regression, direction = \"backward\")\n",
    "regression_final <- lm(Y ~ X1 + X2 + X4, data = hald)\n",
    "regression_final\n",
    "summary(regression_final)"
   ]
  }
 ],
 "metadata": {
  "kernelspec": {
   "display_name": "R",
   "language": "R",
   "name": "ir"
  },
  "language_info": {
   "codemirror_mode": "r",
   "file_extension": ".r",
   "mimetype": "text/x-r-source",
   "name": "R",
   "pygments_lexer": "r",
   "version": "4.4.1"
  }
 },
 "nbformat": 4,
 "nbformat_minor": 2
}
