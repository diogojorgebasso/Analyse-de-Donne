{
 "cells": [
  {
   "cell_type": "code",
   "execution_count": null,
   "metadata": {
    "vscode": {
     "languageId": "r"
    }
   },
   "outputs": [],
   "source": [
    "setwd(\"C:/Users/diogo/code/Analyse de Donne/Aula 1\")"
   ]
  },
  {
   "cell_type": "markdown",
   "metadata": {},
   "source": [
    "General considerations:\n",
    "1. All the code uses R linting.\n",
    "2. The exercises are all separate by the type of knowledge, from basic to advanced.\n",
    "3. Happy coding!"
   ]
  },
  {
   "cell_type": "markdown",
   "metadata": {},
   "source": [
    "# Math Operators"
   ]
  },
  {
   "cell_type": "code",
   "execution_count": null,
   "metadata": {
    "vscode": {
     "languageId": "r"
    }
   },
   "outputs": [],
   "source": [
    "2 + 5\n",
    "sqrt(4)"
   ]
  },
  {
   "cell_type": "markdown",
   "metadata": {},
   "source": [
    "Variables atribution"
   ]
  },
  {
   "cell_type": "code",
   "execution_count": null,
   "metadata": {
    "vscode": {
     "languageId": "r"
    }
   },
   "outputs": [],
   "source": [
    "a <- 5\n",
    "a\n",
    "a <- 3\n",
    "a"
   ]
  },
  {
   "cell_type": "markdown",
   "metadata": {},
   "source": [
    "Lists"
   ]
  },
  {
   "cell_type": "code",
   "execution_count": null,
   "metadata": {
    "vscode": {
     "languageId": "r"
    }
   },
   "outputs": [],
   "source": [
    "120:155"
   ]
  },
  {
   "cell_type": "markdown",
   "metadata": {},
   "source": [
    "# Suites"
   ]
  },
  {
   "cell_type": "code",
   "execution_count": null,
   "metadata": {
    "vscode": {
     "languageId": "r"
    }
   },
   "outputs": [],
   "source": [
    "suite <- 1 : 12\n",
    "suite\n",
    "suite1 <- seq(from = 1, to = 12, by = 1)\n",
    "suite1\n",
    "suite2 <- seq(1, 12, 2)\n",
    "suite2\n",
    "is.vector(suite2)"
   ]
  },
  {
   "cell_type": "markdown",
   "metadata": {},
   "source": [
    " Construire une suite de nombres allant de 20 à 50 par pas de 5"
   ]
  },
  {
   "cell_type": "code",
   "execution_count": null,
   "metadata": {
    "vscode": {
     "languageId": "r"
    }
   },
   "outputs": [],
   "source": [
    "suite3 <- seq(from = 20, to = 50, by = 5)"
   ]
  },
  {
   "cell_type": "markdown",
   "metadata": {},
   "source": [
    "# Vecteurs"
   ]
  },
  {
   "cell_type": "code",
   "execution_count": null,
   "metadata": {
    "vscode": {
     "languageId": "r"
    }
   },
   "outputs": [],
   "source": [
    "vecteur1 <- c(5, 6, 1, 4, 5)\n",
    "vecteur1\n",
    "mode(vecteur1)\n",
    "length(vecteur1)\n",
    "is.vector(vecteur1)\n",
    "vecteur1[2:4]"
   ]
  },
  {
   "cell_type": "code",
   "execution_count": null,
   "metadata": {
    "vscode": {
     "languageId": "r"
    }
   },
   "outputs": [],
   "source": [
    "vecteur2 <- c(\"bleu\", \"vert\", \"jaune\")\n",
    "vecteur2\n",
    "mode(vecteur2)\n",
    "length(vecteur2)\n",
    "is.vector(vecteur2)\n"
   ]
  },
  {
   "cell_type": "code",
   "execution_count": null,
   "metadata": {
    "vscode": {
     "languageId": "r"
    }
   },
   "outputs": [],
   "source": [
    "vecteur3 <- c(TRUE, TRUE, FALSE, TRUE, FALSE, FALSE)\n",
    "vecteur3\n",
    "mode(vecteur3)\n",
    "length(vecteurs2)\n",
    "is.vector(vecteur3)\n"
   ]
  },
  {
   "cell_type": "code",
   "execution_count": null,
   "metadata": {
    "vscode": {
     "languageId": "r"
    }
   },
   "outputs": [],
   "source": [
    "x <- c(2, 3, 6, 10, 12)\n",
    "y <- c(1, 6, 7, 2, 1)\n",
    "z <- x + y\n",
    "z\n",
    "2 * x + 5\n",
    "(x + y) / 2"
   ]
  },
  {
   "cell_type": "markdown",
   "metadata": {},
   "source": [
    "Extraire les éléments 2 et 4 du vecteur x.\n",
    "Supprimer les éléments 2 et 3 du vecteur x.\n",
    "Extraire du vecteur y les éléments strictement supérieurs à 4."
   ]
  },
  {
   "cell_type": "code",
   "execution_count": null,
   "metadata": {
    "vscode": {
     "languageId": "r"
    }
   },
   "outputs": [],
   "source": [
    "#1\n",
    "x[c(2, 4)]\n",
    "\n",
    "#2\n",
    "x <- x[-c(2, 3)]\n",
    "x\n",
    "\n",
    "#3\n",
    "y <- c(1, 6, 7, 2, 1)\n",
    "y\n",
    "y <- y[y < 4]\n",
    "y"
   ]
  },
  {
   "cell_type": "code",
   "execution_count": null,
   "metadata": {
    "vscode": {
     "languageId": "r"
    }
   },
   "outputs": [],
   "source": [
    "x[3] <- 35\n",
    "x\n"
   ]
  },
  {
   "cell_type": "markdown",
   "metadata": {},
   "source": [
    "Remplacer tous les éléments supérieurs ou égaux à 5 par 20"
   ]
  },
  {
   "cell_type": "code",
   "execution_count": null,
   "metadata": {
    "vscode": {
     "languageId": "r"
    }
   },
   "outputs": [],
   "source": [
    "x[x >= 5] <- 20"
   ]
  },
  {
   "cell_type": "markdown",
   "metadata": {},
   "source": [
    " Créer un vecteur contenant 50 fois le chiffre 1.\n",
    " Créer un vecteur contenant 5 fois le mot MINES"
   ]
  },
  {
   "cell_type": "code",
   "execution_count": null,
   "metadata": {
    "vscode": {
     "languageId": "r"
    }
   },
   "outputs": [],
   "source": [
    "vecteur_number <- rep(1, times = 50)\n",
    "length(vecteur_number)\n",
    "\n",
    "vecteur_motte <- rep(\"MINES\", times = 5)\n",
    "length(vecteur_motte)"
   ]
  },
  {
   "cell_type": "code",
   "execution_count": null,
   "metadata": {
    "vscode": {
     "languageId": "r"
    }
   },
   "outputs": [],
   "source": [
    "notes <- c(Anglais = 12, Informatique = 19, Maths = 8)\n",
    "notes\n",
    "matieres <- c(\"Anglais\", \"Informatique\", \"Maths\")\n",
    "evaluation <- c(12, 19, 8)\n",
    "evaluation\n",
    "names(evaluation) <- matieres\n",
    "evaluation"
   ]
  },
  {
   "cell_type": "markdown",
   "metadata": {},
   "source": [
    "Classer par ordre croissant (puis décroissant) les éléments de l’objet ”evaluation”"
   ]
  },
  {
   "cell_type": "code",
   "execution_count": null,
   "metadata": {
    "vscode": {
     "languageId": "r"
    }
   },
   "outputs": [],
   "source": [
    "sort(evaluation)"
   ]
  },
  {
   "cell_type": "markdown",
   "metadata": {},
   "source": [
    "# Matrices"
   ]
  },
  {
   "cell_type": "code",
   "execution_count": null,
   "metadata": {
    "vscode": {
     "languageId": "r"
    }
   },
   "outputs": [],
   "source": [
    "matrice1 <- matrix(1 :12, ncol = 3)\n",
    "matrice1\n",
    "matrice2 <- matrix(1 :12, ncol = 3, byrow = TRUE)\n",
    "matrice2"
   ]
  },
  {
   "cell_type": "code",
   "execution_count": null,
   "metadata": {
    "vscode": {
     "languageId": "r"
    }
   },
   "outputs": [],
   "source": [
    "nrow(matrice1)\n",
    "ncol(matrice1)"
   ]
  },
  {
   "cell_type": "code",
   "execution_count": null,
   "metadata": {
    "vscode": {
     "languageId": "r"
    }
   },
   "outputs": [],
   "source": [
    "Extraire l`élément de la deuxième ligne et la troisième colonne de matrice1.\n",
    "Extraire la deuxième ligne de matrice1.\n",
    "Extraire la troisième colonne de matrice1."
   ]
  },
  {
   "cell_type": "code",
   "execution_count": null,
   "metadata": {
    "vscode": {
     "languageId": "r"
    }
   },
   "outputs": [],
   "source": [
    "#1\n",
    "matrice1[2, 3]\n",
    "\n",
    "#2\n",
    "matrice1[2, ]\n",
    "\n",
    "#3\n",
    "matrice1[, 3]"
   ]
  },
  {
   "cell_type": "markdown",
   "metadata": {},
   "source": [
    "### Ajouter la ligne composée des éléments 13, 14 et 15 à matrice1."
   ]
  },
  {
   "cell_type": "code",
   "execution_count": null,
   "metadata": {
    "vscode": {
     "languageId": "r"
    }
   },
   "outputs": [],
   "source": [
    "nouvelle_ligne <- c(13, 14, 15)\n",
    "\n",
    "matrice1 <- rbind(matrice1, nouvelle_ligne)\n",
    "\n",
    "matrice1"
   ]
  },
  {
   "cell_type": "markdown",
   "metadata": {},
   "source": [
    "### Ajouter la colonne composée des éléments 13, 14, 15 et 16 à matrice1."
   ]
  },
  {
   "cell_type": "code",
   "execution_count": null,
   "metadata": {
    "vscode": {
     "languageId": "r"
    }
   },
   "outputs": [],
   "source": [
    "nouvelle_colonne <- c(13, 14, 15, 16)\n",
    "\n",
    "matrice1 <- cbind(matrice1, nouvelle_colonne)\n",
    "\n",
    "matrice1\n"
   ]
  },
  {
   "cell_type": "markdown",
   "metadata": {},
   "source": [
    "Produit matriciel de `matrix1` par `matrix2`"
   ]
  },
  {
   "cell_type": "code",
   "execution_count": null,
   "metadata": {
    "vscode": {
     "languageId": "r"
    }
   },
   "outputs": [],
   "source": [
    "matrix1 <- matrix(1:6, ncol = 3)\n",
    "matrix1\n",
    "matrix2 <- matrix(1:12, ncol = 4)\n",
    "matrix2\n",
    "\n",
    "\n",
    "dim(matrix1)\n",
    "dim(matrix2)\n",
    "\n",
    "matrix_product <- matrix1 %*% matrix2\n",
    "matrix_product"
   ]
  },
  {
   "cell_type": "markdown",
   "metadata": {},
   "source": [
    "Transposée de matrix1"
   ]
  },
  {
   "cell_type": "code",
   "execution_count": null,
   "metadata": {
    "vscode": {
     "languageId": "r"
    }
   },
   "outputs": [],
   "source": [
    "matrix1_transpose <- t(matrix1)"
   ]
  },
  {
   "cell_type": "markdown",
   "metadata": {},
   "source": [
    "Determinante de Matrix3"
   ]
  },
  {
   "cell_type": "code",
   "execution_count": null,
   "metadata": {
    "vscode": {
     "languageId": "r"
    }
   },
   "outputs": [],
   "source": [
    "matrix3 <- matrix(1:4, ncol = 2)\n",
    "matrix3\n",
    "\n",
    "dim(matrix3)"
   ]
  },
  {
   "cell_type": "code",
   "execution_count": null,
   "metadata": {
    "vscode": {
     "languageId": "r"
    }
   },
   "outputs": [],
   "source": [
    "determinant_matrix3 <- det(matrix3)\n",
    "determinant_matrix3"
   ]
  },
  {
   "cell_type": "markdown",
   "metadata": {},
   "source": [
    "La matrice matrix3 est-elle inversible ?\n",
    "\n",
    "Une matrice est inversible si son déterminant est non nul. Si la matrice est inversible, vous pouvez calculer son inverse avec la fonction solve()."
   ]
  },
  {
   "cell_type": "code",
   "execution_count": null,
   "metadata": {
    "vscode": {
     "languageId": "r"
    }
   },
   "outputs": [],
   "source": [
    "if (det(matrix3) != 0) {\n",
    "  # Calculer l'inverse de matrix3\n",
    "  inverse_matrix3 <- solve(matrix3)\n",
    "  inverse_matrix3\n",
    "} else {\n",
    "  \"La matrice n'est pas inversible\"\n",
    "}"
   ]
  },
  {
   "cell_type": "markdown",
   "metadata": {},
   "source": [
    "Diagonaliser matrix3 et calculer les valeurs propres et vecteurs propres.\n",
    "\n",
    "Pour diagonaliser une matrice, nous devons calculer ses valeurs propres et ses vecteurs propres en utilisant la fonction `eigen()`."
   ]
  },
  {
   "cell_type": "code",
   "execution_count": null,
   "metadata": {
    "vscode": {
     "languageId": "r"
    }
   },
   "outputs": [],
   "source": [
    "eigen_matrix3 <- eigen(matrix3)\n",
    "\n",
    "eigen_matrix3$values\n",
    "\n",
    "eigen_matrix3$vectors"
   ]
  },
  {
   "cell_type": "markdown",
   "metadata": {},
   "source": [
    "# Listes"
   ]
  },
  {
   "cell_type": "markdown",
   "metadata": {},
   "source": [
    "Une liste est une collection ordonnée d’objets, non nécessairement de même mode. "
   ]
  },
  {
   "cell_type": "code",
   "execution_count": null,
   "metadata": {
    "vscode": {
     "languageId": "r"
    }
   },
   "outputs": [],
   "source": [
    "li <- list(num = 1:5, y = \"couleur\", a = TRUE)\n",
    "li\n",
    "li$num\n",
    "li$a"
   ]
  },
  {
   "cell_type": "markdown",
   "metadata": {},
   "source": [
    "Extraire le premier élément de la liste li.\n",
    "Extraire le troisième élément de la liste li."
   ]
  },
  {
   "cell_type": "code",
   "execution_count": null,
   "metadata": {
    "vscode": {
     "languageId": "r"
    }
   },
   "outputs": [],
   "source": [
    "li[1]\n",
    "\n",
    "li[3]"
   ]
  },
  {
   "cell_type": "code",
   "execution_count": null,
   "metadata": {
    "vscode": {
     "languageId": "r"
    }
   },
   "outputs": [],
   "source": [
    "vec <- c(1, 2, 3)\n",
    "mat <- matrix(1, ncol = 2, nrow = 3)\n",
    "l_list <- list(vec, mat)\n",
    "l_list <- list(vecteur = vec, matrice = mat)\n",
    "l_list\n",
    "l_list$matrice"
   ]
  },
  {
   "cell_type": "markdown",
   "metadata": {},
   "source": [
    " Extraire le premier élément de la liste L.\n",
    " Extraire le deuxième élément de la liste L."
   ]
  },
  {
   "cell_type": "code",
   "execution_count": null,
   "metadata": {
    "vscode": {
     "languageId": "r"
    }
   },
   "outputs": [],
   "source": [
    "l_list[1]\n",
    "l_list[2]"
   ]
  },
  {
   "cell_type": "code",
   "execution_count": null,
   "metadata": {
    "vscode": {
     "languageId": "r"
    }
   },
   "outputs": [],
   "source": [
    "m <- matrix(1:4, ncol = 2)\n",
    "dec <- eigen(m)\n",
    "dec"
   ]
  },
  {
   "cell_type": "markdown",
   "metadata": {},
   "source": [
    "Extraire les valeurs propres de la liste dec. Extraire les vecteurs propres de la liste dec."
   ]
  },
  {
   "cell_type": "code",
   "execution_count": null,
   "metadata": {
    "vscode": {
     "languageId": "r"
    }
   },
   "outputs": [],
   "source": [
    "valeurs_propres <- dec$values\n",
    "valeurs_propres"
   ]
  },
  {
   "cell_type": "code",
   "execution_count": null,
   "metadata": {
    "vscode": {
     "languageId": "r"
    }
   },
   "outputs": [],
   "source": [
    "# Extraire les vecteurs propres\n",
    "vecteurs_propres <- dec$vectors\n",
    "\n",
    "# Afficher les vecteurs propres\n",
    "vecteurs_propres"
   ]
  },
  {
   "cell_type": "markdown",
   "metadata": {},
   "source": [
    "# Data Frames"
   ]
  },
  {
   "cell_type": "markdown",
   "metadata": {},
   "source": [
    "Les data-frames (ou structures de données) sont des tableaux dont les colonnes peuvent être de différents types. Ce sont des listes particulières dont les composantes sont de même longueur mais de mode différent. Ils sont les objets les plus importants de R, ils nous permettrons par la suite de faire des statistiques sous R. Exécuter, commenter les commandes suivantes et répondre aux questions pos´ees"
   ]
  },
  {
   "cell_type": "code",
   "execution_count": null,
   "metadata": {
    "vscode": {
     "languageId": "r"
    }
   },
   "outputs": [],
   "source": [
    "age <- c(17, 28, 64, 8, 25, 36)\n",
    "age\n",
    "sexe <- c(\"H\", \"F\", \"F\", \"H\", \"H\", \"F\")\n",
    "sexe\n",
    "donnees <- data.frame(age, sexe)\n",
    "donnees"
   ]
  },
  {
   "cell_type": "markdown",
   "metadata": {},
   "source": [
    "Extraire l’élément sur la troisième ligne et la première colonne du data-frame.\n",
    "Extraire la quatrième ligne du data-frame.\n",
    "Extraire la deuxième colonne du data-frame."
   ]
  },
  {
   "cell_type": "code",
   "execution_count": null,
   "metadata": {
    "vscode": {
     "languageId": "r"
    }
   },
   "outputs": [],
   "source": [
    "#1\n",
    "donnees[3, 1]\n",
    "\n",
    "#2\n",
    "donnees[4, ]\n",
    "\n",
    "#3\n",
    "donness[, 2]"
   ]
  },
  {
   "cell_type": "markdown",
   "metadata": {},
   "source": [
    "Chercher des informations sur le fichier iris.\n",
    "Extraire les individus 1 à 5 du jeu de données iris."
   ]
  },
  {
   "cell_type": "code",
   "execution_count": null,
   "metadata": {
    "vscode": {
     "languageId": "r"
    }
   },
   "outputs": [],
   "source": [
    "iris[1:5, ]\n",
    "\n",
    "names(iris)\n",
    "length(iris)\n",
    "dim(iris)"
   ]
  },
  {
   "cell_type": "markdown",
   "metadata": {},
   "source": [
    "Créer un nouveau jeu de données comportant uniquement les donn´ees de la modalité versicolor de la variable species et le nommer `iris2`."
   ]
  },
  {
   "cell_type": "code",
   "execution_count": null,
   "metadata": {
    "vscode": {
     "languageId": "r"
    }
   },
   "outputs": [],
   "source": [
    "iris2 <- subset(iris, Species == \"versicolor\")\n",
    "iris2_sorted <- iris2[order(iris2$Sepal.Length, decreasing = TRUE), ]\n",
    "iris2_sorted"
   ]
  },
  {
   "cell_type": "markdown",
   "metadata": {},
   "source": [
    "# Packages"
   ]
  },
  {
   "cell_type": "markdown",
   "metadata": {},
   "source": [
    "## Europe"
   ]
  },
  {
   "cell_type": "markdown",
   "metadata": {},
   "source": [
    "1. Aficher le package BioStatR\n",
    "2. Afficher le jeu de données Europe.\n",
    "3. Taper la commande Europe. Que constatez-vous?"
   ]
  },
  {
   "cell_type": "code",
   "execution_count": null,
   "metadata": {
    "vscode": {
     "languageId": "r"
    }
   },
   "outputs": [],
   "source": [
    "# Instalar o pacote BioStatR\n",
    "install.packages(\"BioStatR\")"
   ]
  },
  {
   "cell_type": "code",
   "execution_count": 1,
   "metadata": {
    "vscode": {
     "languageId": "r"
    }
   },
   "outputs": [],
   "source": [
    "library(BioStatR)"
   ]
  },
  {
   "cell_type": "code",
   "execution_count": null,
   "metadata": {
    "vscode": {
     "languageId": "r"
    }
   },
   "outputs": [],
   "source": [
    "data(Europe) # Load data\n",
    "head(Europe) # Show first lines\n"
   ]
  },
  {
   "cell_type": "code",
   "execution_count": null,
   "metadata": {
    "vscode": {
     "languageId": "r"
    }
   },
   "outputs": [],
   "source": [
    "summary(Europe)"
   ]
  },
  {
   "cell_type": "markdown",
   "metadata": {},
   "source": [
    "## Chickwts"
   ]
  },
  {
   "cell_type": "markdown",
   "metadata": {},
   "source": [
    "Le jeu de données nommé `chickwts` fait partie du package de base de R. Il fournit le poids de 71 poulets selon le type de nourriture intégrée. Nous allons donc travailler, dans cet exercice, avec 71 individus et 2 variables : une de type quantitatif et l'autre de type qualitatif."
   ]
  },
  {
   "cell_type": "code",
   "execution_count": null,
   "metadata": {
    "vscode": {
     "languageId": "r"
    }
   },
   "outputs": [],
   "source": [
    "data(chickwts)\n",
    "chickwts\n",
    "summary(chickwts)"
   ]
  },
  {
   "cell_type": "code",
   "execution_count": null,
   "metadata": {
    "vscode": {
     "languageId": "r"
    }
   },
   "outputs": [],
   "source": [
    "weight <- chickwts$weight\n",
    "head(weight)"
   ]
  },
  {
   "cell_type": "markdown",
   "metadata": {},
   "source": [
    "Calculer la moyenne, la variance et l’´ecart-type de cette variable."
   ]
  },
  {
   "cell_type": "code",
   "execution_count": null,
   "metadata": {
    "vscode": {
     "languageId": "r"
    }
   },
   "outputs": [],
   "source": [
    "mean_weight <- mean(weight)\n",
    "variance_weight <- var(weight)\n",
    "sd_weight <- sd(weight)\n",
    "\n",
    "mean_weight\n",
    "variance_weight\n",
    "sd_weight"
   ]
  },
  {
   "cell_type": "code",
   "execution_count": null,
   "metadata": {
    "vscode": {
     "languageId": "r"
    }
   },
   "outputs": [],
   "source": [
    "hist(weight,\n",
    "     main = \"Histogramme des poids des poulets\",\n",
    "     xlab = \"Poids\",\n",
    "     col = \"lightblue\",\n",
    "     breaks = 10)"
   ]
  },
  {
   "cell_type": "code",
   "execution_count": null,
   "metadata": {
    "vscode": {
     "languageId": "r"
    }
   },
   "outputs": [],
   "source": [
    "boxplot(weight)"
   ]
  },
  {
   "cell_type": "code",
   "execution_count": null,
   "metadata": {
    "vscode": {
     "languageId": "r"
    }
   },
   "outputs": [],
   "source": [
    "feed <- chickwts$feed\n",
    "head(feed)"
   ]
  },
  {
   "cell_type": "markdown",
   "metadata": {},
   "source": [
    "Établir la liste des modalités et leurs effectifs"
   ]
  },
  {
   "cell_type": "code",
   "execution_count": null,
   "metadata": {
    "vscode": {
     "languageId": "r"
    }
   },
   "outputs": [],
   "source": [
    "table_feed <- table(feed)\n",
    "table_feed"
   ]
  },
  {
   "cell_type": "markdown",
   "metadata": {},
   "source": [
    "Dresser le tableau des fréquences"
   ]
  },
  {
   "cell_type": "code",
   "execution_count": null,
   "metadata": {
    "vscode": {
     "languageId": "r"
    }
   },
   "outputs": [],
   "source": [
    "freq_feed <- prop.table(table_feed) * 100\n",
    "freq_feed"
   ]
  },
  {
   "cell_type": "code",
   "execution_count": null,
   "metadata": {
    "vscode": {
     "languageId": "r"
    }
   },
   "outputs": [],
   "source": [
    "# Gráfico de setores (pizza)\n",
    "pie(table_feed,\n",
    "    main = \"Répartition des types de nourriture\",\n",
    "    col = rainbow(length(table_feed)))\n"
   ]
  },
  {
   "cell_type": "code",
   "execution_count": null,
   "metadata": {
    "vscode": {
     "languageId": "r"
    }
   },
   "outputs": [],
   "source": [
    "# Gráfico de barras (batons)\n",
    "barplot(table_feed,\n",
    "        main = \"Répartition des types de nourriture\",\n",
    "        ylab = \"Effectifs\",\n",
    "        col = \"lightcoral\")\n",
    "\n"
   ]
  },
  {
   "cell_type": "markdown",
   "metadata": {},
   "source": [
    "Relation entre le type de nourriture et le poids"
   ]
  },
  {
   "cell_type": "code",
   "execution_count": null,
   "metadata": {
    "vscode": {
     "languageId": "r"
    }
   },
   "outputs": [],
   "source": [
    "# Boxplot do peso em função do tipo de alimentação\n",
    "boxplot(weight ~ feed,\n",
    "        data = chickwts,\n",
    "        main = \"Relation entre poids et type de nourriture\",\n",
    "        ylab = \"Poids\",\n",
    "        xlab = \"Type de nourriture\",\n",
    "        col = rainbow(6))\n",
    "\n",
    "# Interprétation: Ce graphique montre si la distribution des poids varie en fonction du type de nourriture ingérée. Il permet de visualiser des différences potentielles.\n"
   ]
  },
  {
   "cell_type": "markdown",
   "metadata": {},
   "source": [
    "Lequel vous paraît le plus adapté? Casein."
   ]
  },
  {
   "cell_type": "markdown",
   "metadata": {},
   "source": [
    "## Veaux de deux races différentes\n",
    "\n",
    "obs: poids em kg. Calculer la moyenne et l’écart type de chacun de ces échantillons."
   ]
  },
  {
   "cell_type": "code",
   "execution_count": 18,
   "metadata": {
    "vscode": {
     "languageId": "r"
    }
   },
   "outputs": [
    {
     "data": {
      "text/plain": [
       "   Min. 1st Qu.  Median    Mean 3rd Qu.    Max. \n",
       "  38.00   42.00   43.00   44.36   47.50   53.00 "
      ]
     },
     "metadata": {},
     "output_type": "display_data"
    },
    {
     "data": {
      "text/plain": [
       "   Min. 1st Qu.  Median    Mean 3rd Qu.    Max. \n",
       "  30.00   40.75   44.00   44.00   47.25   55.00 "
      ]
     },
     "metadata": {},
     "output_type": "display_data"
    }
   ],
   "source": [
    "parthenaise <- c(53, 49, 40, 48, 43, 42, 43, 46, 42, 43, 38, 40, 50, 44)\n",
    "charolaise <- c(46, 46, 48, 38, 42, 42, 40, 53, 55, 41, 47, 30)\n",
    "\n",
    "summary(parthenaise)\n",
    "\n",
    "summary(charolaise)"
   ]
  },
  {
   "cell_type": "code",
   "execution_count": 19,
   "metadata": {
    "vscode": {
     "languageId": "r"
    }
   },
   "outputs": [
    {
     "data": {
      "text/plain": [
       "\n",
       "\tF test to compare two variances\n",
       "\n",
       "data:  parthenaise and charolaise\n",
       "F = 0.40482, num df = 13, denom df = 11, p-value = 0.1239\n",
       "alternative hypothesis: true ratio of variances is not equal to 1\n",
       "95 percent confidence interval:\n",
       " 0.1193563 1.2944238\n",
       "sample estimates:\n",
       "ratio of variances \n",
       "         0.4048242 \n"
      ]
     },
     "metadata": {},
     "output_type": "display_data"
    }
   ],
   "source": [
    "teste_variance <- var.test(parthenaise, charolaise)\n",
    "teste_variance\n"
   ]
  },
  {
   "cell_type": "markdown",
   "metadata": {},
   "source": [
    "Não há evidência suficiente para concluir que as variâncias são diferentes."
   ]
  },
  {
   "cell_type": "markdown",
   "metadata": {},
   "source": [
    "Réaliser le test t avec variances égales\n",
    "\n",
    "Você usa o t.test (teste t de Student) quando deseja comparar as médias de duas populações"
   ]
  },
  {
   "cell_type": "code",
   "execution_count": 20,
   "metadata": {
    "vscode": {
     "languageId": "r"
    }
   },
   "outputs": [
    {
     "data": {
      "text/plain": [
       "\n",
       "\tTwo Sample t-test\n",
       "\n",
       "data:  parthenaise and charolaise\n",
       "t = 0.16358, df = 24, p-value = 0.8714\n",
       "alternative hypothesis: true difference in means is not equal to 0\n",
       "95 percent confidence interval:\n",
       " -4.148948  4.863234\n",
       "sample estimates:\n",
       "mean of x mean of y \n",
       " 44.35714  44.00000 \n"
      ]
     },
     "metadata": {},
     "output_type": "display_data"
    }
   ],
   "source": [
    "test_t <- t.test(parthenaise, charolaise, var.equal = TRUE)\n",
    "test_t"
   ]
  },
  {
   "cell_type": "markdown",
   "metadata": {},
   "source": [
    "Ne sont pas significativement differente."
   ]
  },
  {
   "cell_type": "markdown",
   "metadata": {},
   "source": [
    "## Factor Rhésus"
   ]
  },
  {
   "cell_type": "code",
   "execution_count": 21,
   "metadata": {
    "vscode": {
     "languageId": "r"
    }
   },
   "outputs": [
    {
     "data": {
      "text/html": [
       "<table class=\"dataframe\">\n",
       "<caption>A matrix: 2 × 4 of type dbl</caption>\n",
       "<thead>\n",
       "\t<tr><th></th><th scope=col>O</th><th scope=col>A</th><th scope=col>B</th><th scope=col>AB</th></tr>\n",
       "</thead>\n",
       "<tbody>\n",
       "\t<tr><th scope=row>Rh+</th><td>3535</td><td>3870</td><td>1000</td><td>158</td></tr>\n",
       "\t<tr><th scope=row>Rh-</th><td> 665</td><td> 630</td><td> 100</td><td> 42</td></tr>\n",
       "</tbody>\n",
       "</table>\n"
      ],
      "text/latex": [
       "A matrix: 2 × 4 of type dbl\n",
       "\\begin{tabular}{r|llll}\n",
       "  & O & A & B & AB\\\\\n",
       "\\hline\n",
       "\tRh+ & 3535 & 3870 & 1000 & 158\\\\\n",
       "\tRh- &  665 &  630 &  100 &  42\\\\\n",
       "\\end{tabular}\n"
      ],
      "text/markdown": [
       "\n",
       "A matrix: 2 × 4 of type dbl\n",
       "\n",
       "| <!--/--> | O | A | B | AB |\n",
       "|---|---|---|---|---|\n",
       "| Rh+ | 3535 | 3870 | 1000 | 158 |\n",
       "| Rh- |  665 |  630 |  100 |  42 |\n",
       "\n"
      ],
      "text/plain": [
       "    O    A    B    AB \n",
       "Rh+ 3535 3870 1000 158\n",
       "Rh-  665  630  100  42"
      ]
     },
     "metadata": {},
     "output_type": "display_data"
    }
   ],
   "source": [
    "groupe_sanguin <- matrix(c(3535, 3870, 1000, 158, 665, 630, 100, 42),\n",
    "                         nrow = 2,\n",
    "                         byrow = TRUE)\n",
    "\n",
    "# Nomear as linhas e colunas da tabela\n",
    "rownames(groupe_sanguin) <- c(\"Rh+\", \"Rh-\")\n",
    "colnames(groupe_sanguin) <- c(\"O\", \"A\", \"B\", \"AB\")\n",
    "\n",
    "# Exibir a tabela de contingência\n",
    "groupe_sanguin\n"
   ]
  },
  {
   "cell_type": "code",
   "execution_count": 22,
   "metadata": {
    "vscode": {
     "languageId": "r"
    }
   },
   "outputs": [
    {
     "data": {
      "text/plain": [
       "\n",
       "\tPearson's Chi-squared test\n",
       "\n",
       "data:  groupe_sanguin\n",
       "X-squared = 39.867, df = 3, p-value = 1.137e-08\n"
      ]
     },
     "metadata": {},
     "output_type": "display_data"
    }
   ],
   "source": [
    "# Realizar o teste de qui-quadrado\n",
    "test_chi2 <- chisq.test(groupe_sanguin)\n",
    "\n",
    "# Exibir os resultados do teste\n",
    "test_chi2"
   ]
  },
  {
   "cell_type": "markdown",
   "metadata": {},
   "source": [
    "Portanto, as variáveis são dependentes."
   ]
  }
 ],
 "metadata": {
  "kernelspec": {
   "display_name": "R",
   "language": "R",
   "name": "ir"
  },
  "language_info": {
   "codemirror_mode": "r",
   "file_extension": ".r",
   "mimetype": "text/x-r-source",
   "name": "R",
   "pygments_lexer": "r",
   "version": "4.4.1"
  }
 },
 "nbformat": 4,
 "nbformat_minor": 2
}
