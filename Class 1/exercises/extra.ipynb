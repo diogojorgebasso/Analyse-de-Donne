{
 "cells": [
  {
   "cell_type": "markdown",
   "metadata": {},
   "source": [
    "# Extra exercises"
   ]
  },
  {
   "cell_type": "markdown",
   "metadata": {},
   "source": [
    "1. Importing the files"
   ]
  },
  {
   "cell_type": "code",
   "execution_count": 1,
   "metadata": {
    "vscode": {
     "languageId": "r"
    }
   },
   "outputs": [],
   "source": [
    "tab1 <- read.table(\"table1.txt\")\n",
    "tab2 <- read.table(\"table2.txt\")\n",
    "tab3 <- read.table(\"table3.txt\")\n",
    "tab4 <- read.csv(\"table4.csv\")"
   ]
  },
  {
   "cell_type": "markdown",
   "metadata": {},
   "source": [
    "Showing and analysing the files"
   ]
  },
  {
   "cell_type": "code",
   "execution_count": 2,
   "metadata": {
    "vscode": {
     "languageId": "r"
    }
   },
   "outputs": [
    {
     "data": {
      "text/html": [
       "<table class=\"dataframe\">\n",
       "<caption>A data.frame: 5 × 2</caption>\n",
       "<thead>\n",
       "\t<tr><th scope=col>V1</th><th scope=col>V2</th></tr>\n",
       "\t<tr><th scope=col>&lt;dbl&gt;</th><th scope=col>&lt;int&gt;</th></tr>\n",
       "</thead>\n",
       "<tbody>\n",
       "\t<tr><td>53.5</td><td>160</td></tr>\n",
       "\t<tr><td>74.4</td><td>172</td></tr>\n",
       "\t<tr><td>52.6</td><td>151</td></tr>\n",
       "\t<tr><td>88.6</td><td>163</td></tr>\n",
       "\t<tr><td>49.2</td><td>169</td></tr>\n",
       "</tbody>\n",
       "</table>\n"
      ],
      "text/latex": [
       "A data.frame: 5 × 2\n",
       "\\begin{tabular}{ll}\n",
       " V1 & V2\\\\\n",
       " <dbl> & <int>\\\\\n",
       "\\hline\n",
       "\t 53.5 & 160\\\\\n",
       "\t 74.4 & 172\\\\\n",
       "\t 52.6 & 151\\\\\n",
       "\t 88.6 & 163\\\\\n",
       "\t 49.2 & 169\\\\\n",
       "\\end{tabular}\n"
      ],
      "text/markdown": [
       "\n",
       "A data.frame: 5 × 2\n",
       "\n",
       "| V1 &lt;dbl&gt; | V2 &lt;int&gt; |\n",
       "|---|---|\n",
       "| 53.5 | 160 |\n",
       "| 74.4 | 172 |\n",
       "| 52.6 | 151 |\n",
       "| 88.6 | 163 |\n",
       "| 49.2 | 169 |\n",
       "\n"
      ],
      "text/plain": [
       "  V1   V2 \n",
       "1 53.5 160\n",
       "2 74.4 172\n",
       "3 52.6 151\n",
       "4 88.6 163\n",
       "5 49.2 169"
      ]
     },
     "metadata": {},
     "output_type": "display_data"
    },
    {
     "data": {
      "text/plain": [
       "       V1              V2     \n",
       " Min.   :49.20   Min.   :151  \n",
       " 1st Qu.:52.60   1st Qu.:160  \n",
       " Median :53.50   Median :163  \n",
       " Mean   :63.66   Mean   :163  \n",
       " 3rd Qu.:74.40   3rd Qu.:169  \n",
       " Max.   :88.60   Max.   :172  "
      ]
     },
     "metadata": {},
     "output_type": "display_data"
    },
    {
     "data": {
      "text/html": [
       "<table class=\"dataframe\">\n",
       "<caption>A data.frame: 6 × 2</caption>\n",
       "<thead>\n",
       "\t<tr><th scope=col>V1</th><th scope=col>V2</th></tr>\n",
       "\t<tr><th scope=col>&lt;chr&gt;</th><th scope=col>&lt;chr&gt;</th></tr>\n",
       "</thead>\n",
       "<tbody>\n",
       "\t<tr><td>variable1</td><td>variable2</td></tr>\n",
       "\t<tr><td>53.5     </td><td>160      </td></tr>\n",
       "\t<tr><td>74.4     </td><td>172      </td></tr>\n",
       "\t<tr><td>52.6     </td><td>151      </td></tr>\n",
       "\t<tr><td>88.6     </td><td>163      </td></tr>\n",
       "\t<tr><td>49.2     </td><td>169      </td></tr>\n",
       "</tbody>\n",
       "</table>\n"
      ],
      "text/latex": [
       "A data.frame: 6 × 2\n",
       "\\begin{tabular}{ll}\n",
       " V1 & V2\\\\\n",
       " <chr> & <chr>\\\\\n",
       "\\hline\n",
       "\t variable1 & variable2\\\\\n",
       "\t 53.5      & 160      \\\\\n",
       "\t 74.4      & 172      \\\\\n",
       "\t 52.6      & 151      \\\\\n",
       "\t 88.6      & 163      \\\\\n",
       "\t 49.2      & 169      \\\\\n",
       "\\end{tabular}\n"
      ],
      "text/markdown": [
       "\n",
       "A data.frame: 6 × 2\n",
       "\n",
       "| V1 &lt;chr&gt; | V2 &lt;chr&gt; |\n",
       "|---|---|\n",
       "| variable1 | variable2 |\n",
       "| 53.5      | 160       |\n",
       "| 74.4      | 172       |\n",
       "| 52.6      | 151       |\n",
       "| 88.6      | 163       |\n",
       "| 49.2      | 169       |\n",
       "\n"
      ],
      "text/plain": [
       "  V1        V2       \n",
       "1 variable1 variable2\n",
       "2 53.5      160      \n",
       "3 74.4      172      \n",
       "4 52.6      151      \n",
       "5 88.6      163      \n",
       "6 49.2      169      "
      ]
     },
     "metadata": {},
     "output_type": "display_data"
    },
    {
     "data": {
      "text/plain": [
       "      V1                 V2           \n",
       " Length:6           Length:6          \n",
       " Class :character   Class :character  \n",
       " Mode  :character   Mode  :character  "
      ]
     },
     "metadata": {},
     "output_type": "display_data"
    },
    {
     "data": {
      "text/html": [
       "<table class=\"dataframe\">\n",
       "<caption>A data.frame: 5 × 2</caption>\n",
       "<thead>\n",
       "\t<tr><th scope=col>V1</th><th scope=col>V2</th></tr>\n",
       "\t<tr><th scope=col>&lt;chr&gt;</th><th scope=col>&lt;int&gt;</th></tr>\n",
       "</thead>\n",
       "<tbody>\n",
       "\t<tr><td>53,5</td><td>160</td></tr>\n",
       "\t<tr><td>74,4</td><td>172</td></tr>\n",
       "\t<tr><td>52,6</td><td>151</td></tr>\n",
       "\t<tr><td>88,6</td><td>163</td></tr>\n",
       "\t<tr><td>49,2</td><td>169</td></tr>\n",
       "</tbody>\n",
       "</table>\n"
      ],
      "text/latex": [
       "A data.frame: 5 × 2\n",
       "\\begin{tabular}{ll}\n",
       " V1 & V2\\\\\n",
       " <chr> & <int>\\\\\n",
       "\\hline\n",
       "\t 53,5 & 160\\\\\n",
       "\t 74,4 & 172\\\\\n",
       "\t 52,6 & 151\\\\\n",
       "\t 88,6 & 163\\\\\n",
       "\t 49,2 & 169\\\\\n",
       "\\end{tabular}\n"
      ],
      "text/markdown": [
       "\n",
       "A data.frame: 5 × 2\n",
       "\n",
       "| V1 &lt;chr&gt; | V2 &lt;int&gt; |\n",
       "|---|---|\n",
       "| 53,5 | 160 |\n",
       "| 74,4 | 172 |\n",
       "| 52,6 | 151 |\n",
       "| 88,6 | 163 |\n",
       "| 49,2 | 169 |\n",
       "\n"
      ],
      "text/plain": [
       "  V1   V2 \n",
       "1 53,5 160\n",
       "2 74,4 172\n",
       "3 52,6 151\n",
       "4 88,6 163\n",
       "5 49,2 169"
      ]
     },
     "metadata": {},
     "output_type": "display_data"
    },
    {
     "data": {
      "text/plain": [
       "      V1                  V2     \n",
       " Length:5           Min.   :151  \n",
       " Class :character   1st Qu.:160  \n",
       " Mode  :character   Median :163  \n",
       "                    Mean   :163  \n",
       "                    3rd Qu.:169  \n",
       "                    Max.   :172  "
      ]
     },
     "metadata": {},
     "output_type": "display_data"
    },
    {
     "data": {
      "text/html": [
       "<table class=\"dataframe\">\n",
       "<caption>A data.frame: 30 × 2</caption>\n",
       "<thead>\n",
       "\t<tr><th scope=col>D</th><th scope=col>size</th></tr>\n",
       "\t<tr><th scope=col>&lt;int&gt;</th><th scope=col>&lt;int&gt;</th></tr>\n",
       "</thead>\n",
       "<tbody>\n",
       "\t<tr><td>12</td><td>50</td></tr>\n",
       "\t<tr><td>15</td><td>50</td></tr>\n",
       "\t<tr><td> 8</td><td>50</td></tr>\n",
       "\t<tr><td>10</td><td>50</td></tr>\n",
       "\t<tr><td> 4</td><td>50</td></tr>\n",
       "\t<tr><td> 7</td><td>50</td></tr>\n",
       "\t<tr><td>16</td><td>50</td></tr>\n",
       "\t<tr><td> 9</td><td>50</td></tr>\n",
       "\t<tr><td>14</td><td>50</td></tr>\n",
       "\t<tr><td>10</td><td>50</td></tr>\n",
       "\t<tr><td> 5</td><td>50</td></tr>\n",
       "\t<tr><td> 6</td><td>50</td></tr>\n",
       "\t<tr><td>17</td><td>50</td></tr>\n",
       "\t<tr><td>12</td><td>50</td></tr>\n",
       "\t<tr><td>22</td><td>50</td></tr>\n",
       "\t<tr><td> 8</td><td>50</td></tr>\n",
       "\t<tr><td>10</td><td>50</td></tr>\n",
       "\t<tr><td> 5</td><td>50</td></tr>\n",
       "\t<tr><td>13</td><td>50</td></tr>\n",
       "\t<tr><td>11</td><td>50</td></tr>\n",
       "\t<tr><td>20</td><td>50</td></tr>\n",
       "\t<tr><td>18</td><td>50</td></tr>\n",
       "\t<tr><td>24</td><td>50</td></tr>\n",
       "\t<tr><td>15</td><td>50</td></tr>\n",
       "\t<tr><td> 9</td><td>50</td></tr>\n",
       "\t<tr><td>12</td><td>50</td></tr>\n",
       "\t<tr><td> 7</td><td>50</td></tr>\n",
       "\t<tr><td>13</td><td>50</td></tr>\n",
       "\t<tr><td> 9</td><td>50</td></tr>\n",
       "\t<tr><td> 6</td><td>50</td></tr>\n",
       "</tbody>\n",
       "</table>\n"
      ],
      "text/latex": [
       "A data.frame: 30 × 2\n",
       "\\begin{tabular}{ll}\n",
       " D & size\\\\\n",
       " <int> & <int>\\\\\n",
       "\\hline\n",
       "\t 12 & 50\\\\\n",
       "\t 15 & 50\\\\\n",
       "\t  8 & 50\\\\\n",
       "\t 10 & 50\\\\\n",
       "\t  4 & 50\\\\\n",
       "\t  7 & 50\\\\\n",
       "\t 16 & 50\\\\\n",
       "\t  9 & 50\\\\\n",
       "\t 14 & 50\\\\\n",
       "\t 10 & 50\\\\\n",
       "\t  5 & 50\\\\\n",
       "\t  6 & 50\\\\\n",
       "\t 17 & 50\\\\\n",
       "\t 12 & 50\\\\\n",
       "\t 22 & 50\\\\\n",
       "\t  8 & 50\\\\\n",
       "\t 10 & 50\\\\\n",
       "\t  5 & 50\\\\\n",
       "\t 13 & 50\\\\\n",
       "\t 11 & 50\\\\\n",
       "\t 20 & 50\\\\\n",
       "\t 18 & 50\\\\\n",
       "\t 24 & 50\\\\\n",
       "\t 15 & 50\\\\\n",
       "\t  9 & 50\\\\\n",
       "\t 12 & 50\\\\\n",
       "\t  7 & 50\\\\\n",
       "\t 13 & 50\\\\\n",
       "\t  9 & 50\\\\\n",
       "\t  6 & 50\\\\\n",
       "\\end{tabular}\n"
      ],
      "text/markdown": [
       "\n",
       "A data.frame: 30 × 2\n",
       "\n",
       "| D &lt;int&gt; | size &lt;int&gt; |\n",
       "|---|---|\n",
       "| 12 | 50 |\n",
       "| 15 | 50 |\n",
       "|  8 | 50 |\n",
       "| 10 | 50 |\n",
       "|  4 | 50 |\n",
       "|  7 | 50 |\n",
       "| 16 | 50 |\n",
       "|  9 | 50 |\n",
       "| 14 | 50 |\n",
       "| 10 | 50 |\n",
       "|  5 | 50 |\n",
       "|  6 | 50 |\n",
       "| 17 | 50 |\n",
       "| 12 | 50 |\n",
       "| 22 | 50 |\n",
       "|  8 | 50 |\n",
       "| 10 | 50 |\n",
       "|  5 | 50 |\n",
       "| 13 | 50 |\n",
       "| 11 | 50 |\n",
       "| 20 | 50 |\n",
       "| 18 | 50 |\n",
       "| 24 | 50 |\n",
       "| 15 | 50 |\n",
       "|  9 | 50 |\n",
       "| 12 | 50 |\n",
       "|  7 | 50 |\n",
       "| 13 | 50 |\n",
       "|  9 | 50 |\n",
       "|  6 | 50 |\n",
       "\n"
      ],
      "text/plain": [
       "   D  size\n",
       "1  12 50  \n",
       "2  15 50  \n",
       "3   8 50  \n",
       "4  10 50  \n",
       "5   4 50  \n",
       "6   7 50  \n",
       "7  16 50  \n",
       "8   9 50  \n",
       "9  14 50  \n",
       "10 10 50  \n",
       "11  5 50  \n",
       "12  6 50  \n",
       "13 17 50  \n",
       "14 12 50  \n",
       "15 22 50  \n",
       "16  8 50  \n",
       "17 10 50  \n",
       "18  5 50  \n",
       "19 13 50  \n",
       "20 11 50  \n",
       "21 20 50  \n",
       "22 18 50  \n",
       "23 24 50  \n",
       "24 15 50  \n",
       "25  9 50  \n",
       "26 12 50  \n",
       "27  7 50  \n",
       "28 13 50  \n",
       "29  9 50  \n",
       "30  6 50  "
      ]
     },
     "metadata": {},
     "output_type": "display_data"
    },
    {
     "data": {
      "text/plain": [
       "       D              size   \n",
       " Min.   : 4.00   Min.   :50  \n",
       " 1st Qu.: 8.00   1st Qu.:50  \n",
       " Median :10.50   Median :50  \n",
       " Mean   :11.57   Mean   :50  \n",
       " 3rd Qu.:14.75   3rd Qu.:50  \n",
       " Max.   :24.00   Max.   :50  "
      ]
     },
     "metadata": {},
     "output_type": "display_data"
    }
   ],
   "source": [
    "tab1\n",
    "summary(tab1)\n",
    "\n",
    "tab2\n",
    "summary(tab2)\n",
    "\n",
    "tab3\n",
    "summary(tab3)\n",
    "\n",
    "tab4\n",
    "summary(tab4)"
   ]
  }
 ],
 "metadata": {
  "kernelspec": {
   "display_name": "R",
   "language": "R",
   "name": "ir"
  },
  "language_info": {
   "codemirror_mode": "r",
   "file_extension": ".r",
   "mimetype": "text/x-r-source",
   "name": "R",
   "pygments_lexer": "r",
   "version": "4.4.1"
  }
 },
 "nbformat": 4,
 "nbformat_minor": 2
}
