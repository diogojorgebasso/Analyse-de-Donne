{
 "cells": [
  {
   "cell_type": "markdown",
   "metadata": {},
   "source": [
    "# Indice de Quételet"
   ]
  },
  {
   "cell_type": "code",
   "execution_count": 6,
   "metadata": {
    "vscode": {
     "languageId": "r"
    }
   },
   "outputs": [
    {
     "data": {
      "text/html": [
       "<table class=\"dataframe\">\n",
       "<caption>A data.frame: 66 × 3</caption>\n",
       "<thead>\n",
       "\t<tr><th scope=col>sexe</th><th scope=col>poids</th><th scope=col>taille</th></tr>\n",
       "\t<tr><th scope=col>&lt;chr&gt;</th><th scope=col>&lt;int&gt;</th><th scope=col>&lt;int&gt;</th></tr>\n",
       "</thead>\n",
       "<tbody>\n",
       "\t<tr><td>h</td><td>60</td><td>170</td></tr>\n",
       "\t<tr><td>f</td><td>57</td><td>169</td></tr>\n",
       "\t<tr><td>f</td><td>51</td><td>172</td></tr>\n",
       "\t<tr><td>f</td><td>55</td><td>174</td></tr>\n",
       "\t<tr><td>f</td><td>50</td><td>168</td></tr>\n",
       "\t<tr><td>f</td><td>50</td><td>161</td></tr>\n",
       "\t<tr><td>f</td><td>48</td><td>162</td></tr>\n",
       "\t<tr><td>h</td><td>72</td><td>189</td></tr>\n",
       "\t<tr><td>f</td><td>52</td><td>160</td></tr>\n",
       "\t<tr><td>h</td><td>64</td><td>175</td></tr>\n",
       "\t<tr><td>f</td><td>53</td><td>165</td></tr>\n",
       "\t<tr><td>h</td><td>72</td><td>164</td></tr>\n",
       "\t<tr><td>h</td><td>61</td><td>175</td></tr>\n",
       "\t<tr><td>h</td><td>78</td><td>184</td></tr>\n",
       "\t<tr><td>h</td><td>68</td><td>178</td></tr>\n",
       "\t<tr><td>f</td><td>51</td><td>158</td></tr>\n",
       "\t<tr><td>f</td><td>53</td><td>164</td></tr>\n",
       "\t<tr><td>h</td><td>79</td><td>179</td></tr>\n",
       "\t<tr><td>h</td><td>74</td><td>182</td></tr>\n",
       "\t<tr><td>h</td><td>62</td><td>174</td></tr>\n",
       "\t<tr><td>f</td><td>49</td><td>158</td></tr>\n",
       "\t<tr><td>f</td><td>50</td><td>163</td></tr>\n",
       "\t<tr><td>h</td><td>74</td><td>172</td></tr>\n",
       "\t<tr><td>h</td><td>80</td><td>185</td></tr>\n",
       "\t<tr><td>f</td><td>53</td><td>170</td></tr>\n",
       "\t<tr><td>h</td><td>73</td><td>178</td></tr>\n",
       "\t<tr><td>h</td><td>70</td><td>180</td></tr>\n",
       "\t<tr><td>h</td><td>72</td><td>189</td></tr>\n",
       "\t<tr><td>f</td><td>70</td><td>172</td></tr>\n",
       "\t<tr><td>f</td><td>62</td><td>174</td></tr>\n",
       "\t<tr><td>⋮</td><td>⋮</td><td>⋮</td></tr>\n",
       "\t<tr><td>f</td><td>53</td><td>163</td></tr>\n",
       "\t<tr><td>f</td><td>55</td><td>168</td></tr>\n",
       "\t<tr><td>f</td><td>66</td><td>172</td></tr>\n",
       "\t<tr><td>h</td><td>65</td><td>175</td></tr>\n",
       "\t<tr><td>h</td><td>75</td><td>180</td></tr>\n",
       "\t<tr><td>f</td><td>50</td><td>162</td></tr>\n",
       "\t<tr><td>f</td><td>53</td><td>177</td></tr>\n",
       "\t<tr><td>h</td><td>55</td><td>169</td></tr>\n",
       "\t<tr><td>h</td><td>55</td><td>173</td></tr>\n",
       "\t<tr><td>h</td><td>72</td><td>182</td></tr>\n",
       "\t<tr><td>h</td><td>75</td><td>183</td></tr>\n",
       "\t<tr><td>h</td><td>73</td><td>184</td></tr>\n",
       "\t<tr><td>h</td><td>71</td><td>181</td></tr>\n",
       "\t<tr><td>h</td><td>66</td><td>180</td></tr>\n",
       "\t<tr><td>h</td><td>71</td><td>178</td></tr>\n",
       "\t<tr><td>h</td><td>79</td><td>178</td></tr>\n",
       "\t<tr><td>h</td><td>62</td><td>168</td></tr>\n",
       "\t<tr><td>f</td><td>47</td><td>161</td></tr>\n",
       "\t<tr><td>h</td><td>73</td><td>171</td></tr>\n",
       "\t<tr><td>h</td><td>72</td><td>180</td></tr>\n",
       "\t<tr><td>h</td><td>60</td><td>174</td></tr>\n",
       "\t<tr><td>h</td><td>67</td><td>175</td></tr>\n",
       "\t<tr><td>h</td><td>85</td><td>182</td></tr>\n",
       "\t<tr><td>h</td><td>73</td><td>181</td></tr>\n",
       "\t<tr><td>h</td><td>82</td><td>188</td></tr>\n",
       "\t<tr><td>h</td><td>86</td><td>182</td></tr>\n",
       "\t<tr><td>h</td><td>85</td><td>189</td></tr>\n",
       "\t<tr><td>h</td><td>65</td><td>178</td></tr>\n",
       "\t<tr><td>f</td><td>47</td><td>150</td></tr>\n",
       "\t<tr><td>h</td><td>74</td><td>186</td></tr>\n",
       "</tbody>\n",
       "</table>\n"
      ],
      "text/latex": [
       "A data.frame: 66 × 3\n",
       "\\begin{tabular}{lll}\n",
       " sexe & poids & taille\\\\\n",
       " <chr> & <int> & <int>\\\\\n",
       "\\hline\n",
       "\t h & 60 & 170\\\\\n",
       "\t f & 57 & 169\\\\\n",
       "\t f & 51 & 172\\\\\n",
       "\t f & 55 & 174\\\\\n",
       "\t f & 50 & 168\\\\\n",
       "\t f & 50 & 161\\\\\n",
       "\t f & 48 & 162\\\\\n",
       "\t h & 72 & 189\\\\\n",
       "\t f & 52 & 160\\\\\n",
       "\t h & 64 & 175\\\\\n",
       "\t f & 53 & 165\\\\\n",
       "\t h & 72 & 164\\\\\n",
       "\t h & 61 & 175\\\\\n",
       "\t h & 78 & 184\\\\\n",
       "\t h & 68 & 178\\\\\n",
       "\t f & 51 & 158\\\\\n",
       "\t f & 53 & 164\\\\\n",
       "\t h & 79 & 179\\\\\n",
       "\t h & 74 & 182\\\\\n",
       "\t h & 62 & 174\\\\\n",
       "\t f & 49 & 158\\\\\n",
       "\t f & 50 & 163\\\\\n",
       "\t h & 74 & 172\\\\\n",
       "\t h & 80 & 185\\\\\n",
       "\t f & 53 & 170\\\\\n",
       "\t h & 73 & 178\\\\\n",
       "\t h & 70 & 180\\\\\n",
       "\t h & 72 & 189\\\\\n",
       "\t f & 70 & 172\\\\\n",
       "\t f & 62 & 174\\\\\n",
       "\t ⋮ & ⋮ & ⋮\\\\\n",
       "\t f & 53 & 163\\\\\n",
       "\t f & 55 & 168\\\\\n",
       "\t f & 66 & 172\\\\\n",
       "\t h & 65 & 175\\\\\n",
       "\t h & 75 & 180\\\\\n",
       "\t f & 50 & 162\\\\\n",
       "\t f & 53 & 177\\\\\n",
       "\t h & 55 & 169\\\\\n",
       "\t h & 55 & 173\\\\\n",
       "\t h & 72 & 182\\\\\n",
       "\t h & 75 & 183\\\\\n",
       "\t h & 73 & 184\\\\\n",
       "\t h & 71 & 181\\\\\n",
       "\t h & 66 & 180\\\\\n",
       "\t h & 71 & 178\\\\\n",
       "\t h & 79 & 178\\\\\n",
       "\t h & 62 & 168\\\\\n",
       "\t f & 47 & 161\\\\\n",
       "\t h & 73 & 171\\\\\n",
       "\t h & 72 & 180\\\\\n",
       "\t h & 60 & 174\\\\\n",
       "\t h & 67 & 175\\\\\n",
       "\t h & 85 & 182\\\\\n",
       "\t h & 73 & 181\\\\\n",
       "\t h & 82 & 188\\\\\n",
       "\t h & 86 & 182\\\\\n",
       "\t h & 85 & 189\\\\\n",
       "\t h & 65 & 178\\\\\n",
       "\t f & 47 & 150\\\\\n",
       "\t h & 74 & 186\\\\\n",
       "\\end{tabular}\n"
      ],
      "text/markdown": [
       "\n",
       "A data.frame: 66 × 3\n",
       "\n",
       "| sexe &lt;chr&gt; | poids &lt;int&gt; | taille &lt;int&gt; |\n",
       "|---|---|---|\n",
       "| h | 60 | 170 |\n",
       "| f | 57 | 169 |\n",
       "| f | 51 | 172 |\n",
       "| f | 55 | 174 |\n",
       "| f | 50 | 168 |\n",
       "| f | 50 | 161 |\n",
       "| f | 48 | 162 |\n",
       "| h | 72 | 189 |\n",
       "| f | 52 | 160 |\n",
       "| h | 64 | 175 |\n",
       "| f | 53 | 165 |\n",
       "| h | 72 | 164 |\n",
       "| h | 61 | 175 |\n",
       "| h | 78 | 184 |\n",
       "| h | 68 | 178 |\n",
       "| f | 51 | 158 |\n",
       "| f | 53 | 164 |\n",
       "| h | 79 | 179 |\n",
       "| h | 74 | 182 |\n",
       "| h | 62 | 174 |\n",
       "| f | 49 | 158 |\n",
       "| f | 50 | 163 |\n",
       "| h | 74 | 172 |\n",
       "| h | 80 | 185 |\n",
       "| f | 53 | 170 |\n",
       "| h | 73 | 178 |\n",
       "| h | 70 | 180 |\n",
       "| h | 72 | 189 |\n",
       "| f | 70 | 172 |\n",
       "| f | 62 | 174 |\n",
       "| ⋮ | ⋮ | ⋮ |\n",
       "| f | 53 | 163 |\n",
       "| f | 55 | 168 |\n",
       "| f | 66 | 172 |\n",
       "| h | 65 | 175 |\n",
       "| h | 75 | 180 |\n",
       "| f | 50 | 162 |\n",
       "| f | 53 | 177 |\n",
       "| h | 55 | 169 |\n",
       "| h | 55 | 173 |\n",
       "| h | 72 | 182 |\n",
       "| h | 75 | 183 |\n",
       "| h | 73 | 184 |\n",
       "| h | 71 | 181 |\n",
       "| h | 66 | 180 |\n",
       "| h | 71 | 178 |\n",
       "| h | 79 | 178 |\n",
       "| h | 62 | 168 |\n",
       "| f | 47 | 161 |\n",
       "| h | 73 | 171 |\n",
       "| h | 72 | 180 |\n",
       "| h | 60 | 174 |\n",
       "| h | 67 | 175 |\n",
       "| h | 85 | 182 |\n",
       "| h | 73 | 181 |\n",
       "| h | 82 | 188 |\n",
       "| h | 86 | 182 |\n",
       "| h | 85 | 189 |\n",
       "| h | 65 | 178 |\n",
       "| f | 47 | 150 |\n",
       "| h | 74 | 186 |\n",
       "\n"
      ],
      "text/plain": [
       "   sexe poids taille\n",
       "1  h    60    170   \n",
       "2  f    57    169   \n",
       "3  f    51    172   \n",
       "4  f    55    174   \n",
       "5  f    50    168   \n",
       "6  f    50    161   \n",
       "7  f    48    162   \n",
       "8  h    72    189   \n",
       "9  f    52    160   \n",
       "10 h    64    175   \n",
       "11 f    53    165   \n",
       "12 h    72    164   \n",
       "13 h    61    175   \n",
       "14 h    78    184   \n",
       "15 h    68    178   \n",
       "16 f    51    158   \n",
       "17 f    53    164   \n",
       "18 h    79    179   \n",
       "19 h    74    182   \n",
       "20 h    62    174   \n",
       "21 f    49    158   \n",
       "22 f    50    163   \n",
       "23 h    74    172   \n",
       "24 h    80    185   \n",
       "25 f    53    170   \n",
       "26 h    73    178   \n",
       "27 h    70    180   \n",
       "28 h    72    189   \n",
       "29 f    70    172   \n",
       "30 f    62    174   \n",
       "⋮  ⋮    ⋮     ⋮     \n",
       "37 f    53    163   \n",
       "38 f    55    168   \n",
       "39 f    66    172   \n",
       "40 h    65    175   \n",
       "41 h    75    180   \n",
       "42 f    50    162   \n",
       "43 f    53    177   \n",
       "44 h    55    169   \n",
       "45 h    55    173   \n",
       "46 h    72    182   \n",
       "47 h    75    183   \n",
       "48 h    73    184   \n",
       "49 h    71    181   \n",
       "50 h    66    180   \n",
       "51 h    71    178   \n",
       "52 h    79    178   \n",
       "53 h    62    168   \n",
       "54 f    47    161   \n",
       "55 h    73    171   \n",
       "56 h    72    180   \n",
       "57 h    60    174   \n",
       "58 h    67    175   \n",
       "59 h    85    182   \n",
       "60 h    73    181   \n",
       "61 h    82    188   \n",
       "62 h    86    182   \n",
       "63 h    85    189   \n",
       "64 h    65    178   \n",
       "65 f    47    150   \n",
       "66 h    74    186   "
      ]
     },
     "metadata": {},
     "output_type": "display_data"
    }
   ],
   "source": [
    "quetelet <- read.table(\"quetelet.txt\", head = TRUE)\n",
    "quetelet"
   ]
  },
  {
   "cell_type": "code",
   "execution_count": 8,
   "metadata": {
    "vscode": {
     "languageId": "r"
    }
   },
   "outputs": [
    {
     "data": {
      "text/html": [
       "<style>\n",
       ".list-inline {list-style: none; margin:0; padding: 0}\n",
       ".list-inline>li {display: inline-block}\n",
       ".list-inline>li:not(:last-child)::after {content: \"\\00b7\"; padding: 0 .5ex}\n",
       "</style>\n",
       "<ol class=list-inline><li>170</li><li>169</li><li>172</li><li>174</li><li>168</li><li>161</li></ol>\n"
      ],
      "text/latex": [
       "\\begin{enumerate*}\n",
       "\\item 170\n",
       "\\item 169\n",
       "\\item 172\n",
       "\\item 174\n",
       "\\item 168\n",
       "\\item 161\n",
       "\\end{enumerate*}\n"
      ],
      "text/markdown": [
       "1. 170\n",
       "2. 169\n",
       "3. 172\n",
       "4. 174\n",
       "5. 168\n",
       "6. 161\n",
       "\n",
       "\n"
      ],
      "text/plain": [
       "[1] 170 169 172 174 168 161"
      ]
     },
     "metadata": {},
     "output_type": "display_data"
    },
    {
     "data": {
      "text/html": [
       "<style>\n",
       ".list-inline {list-style: none; margin:0; padding: 0}\n",
       ".list-inline>li {display: inline-block}\n",
       ".list-inline>li:not(:last-child)::after {content: \"\\00b7\"; padding: 0 .5ex}\n",
       "</style>\n",
       "<ol class=list-inline><li>60</li><li>57</li><li>51</li><li>55</li><li>50</li><li>50</li></ol>\n"
      ],
      "text/latex": [
       "\\begin{enumerate*}\n",
       "\\item 60\n",
       "\\item 57\n",
       "\\item 51\n",
       "\\item 55\n",
       "\\item 50\n",
       "\\item 50\n",
       "\\end{enumerate*}\n"
      ],
      "text/markdown": [
       "1. 60\n",
       "2. 57\n",
       "3. 51\n",
       "4. 55\n",
       "5. 50\n",
       "6. 50\n",
       "\n",
       "\n"
      ],
      "text/plain": [
       "[1] 60 57 51 55 50 50"
      ]
     },
     "metadata": {},
     "output_type": "display_data"
    },
    {
     "data": {
      "text/html": [
       "<style>\n",
       ".list-inline {list-style: none; margin:0; padding: 0}\n",
       ".list-inline>li {display: inline-block}\n",
       ".list-inline>li:not(:last-child)::after {content: \"\\00b7\"; padding: 0 .5ex}\n",
       "</style>\n",
       "<ol class=list-inline><li>'h'</li><li>'f'</li><li>'f'</li><li>'f'</li><li>'f'</li><li>'f'</li></ol>\n"
      ],
      "text/latex": [
       "\\begin{enumerate*}\n",
       "\\item 'h'\n",
       "\\item 'f'\n",
       "\\item 'f'\n",
       "\\item 'f'\n",
       "\\item 'f'\n",
       "\\item 'f'\n",
       "\\end{enumerate*}\n"
      ],
      "text/markdown": [
       "1. 'h'\n",
       "2. 'f'\n",
       "3. 'f'\n",
       "4. 'f'\n",
       "5. 'f'\n",
       "6. 'f'\n",
       "\n",
       "\n"
      ],
      "text/plain": [
       "[1] \"h\" \"f\" \"f\" \"f\" \"f\" \"f\""
      ]
     },
     "metadata": {},
     "output_type": "display_data"
    }
   ],
   "source": [
    "taille <- quetelet$taille\n",
    "poids <- quetelet$poids\n",
    "sexe <- quetelet$sexe\n",
    "\n",
    "# Exibir os vetores\n",
    "head(taille)\n",
    "head(poids)\n",
    "head(sexe)"
   ]
  },
  {
   "cell_type": "markdown",
   "metadata": {},
   "source": [
    "Quel est le nombre d’individus dans l’échantillon (Amostra )"
   ]
  },
  {
   "cell_type": "code",
   "execution_count": 9,
   "metadata": {
    "vscode": {
     "languageId": "r"
    }
   },
   "outputs": [
    {
     "data": {
      "text/html": [
       "66"
      ],
      "text/latex": [
       "66"
      ],
      "text/markdown": [
       "66"
      ],
      "text/plain": [
       "[1] 66"
      ]
     },
     "metadata": {},
     "output_type": "display_data"
    }
   ],
   "source": [
    "nombre_individus <- length(taille)\n",
    "nombre_individus"
   ]
  },
  {
   "cell_type": "markdown",
   "metadata": {},
   "source": [
    "Pour les deux variables quantitatives calculer quelques indicateurs de tendance centrale"
   ]
  },
  {
   "cell_type": "code",
   "execution_count": 10,
   "metadata": {
    "vscode": {
     "languageId": "r"
    }
   },
   "outputs": [
    {
     "data": {
      "text/plain": [
       "   Min. 1st Qu.  Median    Mean 3rd Qu.    Max. \n",
       "  150.0   168.0   174.5   174.1   180.0   200.0 "
      ]
     },
     "metadata": {},
     "output_type": "display_data"
    },
    {
     "data": {
      "text/plain": [
       "   Min. 1st Qu.  Median    Mean 3rd Qu.    Max. \n",
       "  47.00   53.00   65.50   64.52   73.00   86.00 "
      ]
     },
     "metadata": {},
     "output_type": "display_data"
    }
   ],
   "source": [
    "summary(taille)\n",
    "summary(poids)"
   ]
  },
  {
   "cell_type": "code",
   "execution_count": 13,
   "metadata": {
    "vscode": {
     "languageId": "r"
    }
   },
   "outputs": [
    {
     "data": {
      "text/html": [
       "<style>\n",
       ".list-inline {list-style: none; margin:0; padding: 0}\n",
       ".list-inline>li {display: inline-block}\n",
       ".list-inline>li:not(:last-child)::after {content: \"\\00b7\"; padding: 0 .5ex}\n",
       "</style>\n",
       "<ol class=list-inline><li>20.7612456747405</li><li>19.9572844088092</li><li>17.2390481341266</li><li>18.1662042541947</li><li>17.7154195011338</li><li>19.2893792677752</li></ol>\n"
      ],
      "text/latex": [
       "\\begin{enumerate*}\n",
       "\\item 20.7612456747405\n",
       "\\item 19.9572844088092\n",
       "\\item 17.2390481341266\n",
       "\\item 18.1662042541947\n",
       "\\item 17.7154195011338\n",
       "\\item 19.2893792677752\n",
       "\\end{enumerate*}\n"
      ],
      "text/markdown": [
       "1. 20.7612456747405\n",
       "2. 19.9572844088092\n",
       "3. 17.2390481341266\n",
       "4. 18.1662042541947\n",
       "5. 17.7154195011338\n",
       "6. 19.2893792677752\n",
       "\n",
       "\n"
      ],
      "text/plain": [
       "[1] 20.76125 19.95728 17.23905 18.16620 17.71542 19.28938"
      ]
     },
     "metadata": {},
     "output_type": "display_data"
    },
    {
     "data": {
      "text/plain": [
       "   Min. 1st Qu.  Median    Mean 3rd Qu.    Max. \n",
       "  18.38   20.76   21.97   22.19   23.20   26.77 "
      ]
     },
     "metadata": {},
     "output_type": "display_data"
    },
    {
     "data": {
      "text/plain": [
       "   Min. 1st Qu.  Median    Mean 3rd Qu.    Max. \n",
       "  16.92   18.17   19.47   19.46   20.31   23.66 "
      ]
     },
     "metadata": {},
     "output_type": "display_data"
    }
   ],
   "source": [
    "taille_m <- taille / 100 # 'taille' está em centímetros\n",
    "\n",
    "imc <- poids / (taille_m^2)\n",
    "\n",
    "head(imc)\n",
    "\n",
    "imc_h <- imc[sexe == \"h\"]\n",
    "summary(imc_h)\n",
    "\n",
    "imc_f <- imc[sexe == \"f\"]\n",
    "summary(imc_f)"
   ]
  },
  {
   "cell_type": "markdown",
   "metadata": {},
   "source": [
    "Construire l’histogramme de cette nouvelle variable"
   ]
  },
  {
   "cell_type": "code",
   "execution_count": 14,
   "metadata": {
    "vscode": {
     "languageId": "r"
    }
   },
   "outputs": [
    {
     "data": {
      "image/png": "[encoded data removed]",
      "text/plain": [
       "Plot with title \"Histogram of imc\""
      ]
     },
     "metadata": {
      "image/png": {
       "height": 420,
       "width": 420
      }
     },
     "output_type": "display_data"
    }
   ],
   "source": [
    "hist(imc)"
   ]
  },
  {
   "cell_type": "code",
   "execution_count": 15,
   "metadata": {
    "vscode": {
     "languageId": "r"
    }
   },
   "outputs": [
    {
     "data": {
      "image/png": "[encoded data removed]",
      "text/plain": [
       "Plot with title \"Histogram of imc_f\""
      ]
     },
     "metadata": {
      "image/png": {
       "height": 420,
       "width": 420
      }
     },
     "output_type": "display_data"
    },
    {
     "data": {
      "image/png": "[encoded data removed]",
      "text/plain": [
       "Plot with title \"Histogram of imc_h\""
      ]
     },
     "metadata": {
      "image/png": {
       "height": 420,
       "width": 420
      }
     },
     "output_type": "display_data"
    }
   ],
   "source": [
    "hist(imc_f)\n",
    "\n",
    "hist(imc_h)"
   ]
  }
 ],
 "metadata": {
  "kernelspec": {
   "display_name": "R",
   "language": "R",
   "name": "ir"
  },
  "language_info": {
   "codemirror_mode": "r",
   "file_extension": ".r",
   "mimetype": "text/x-r-source",
   "name": "R",
   "pygments_lexer": "r",
   "version": "4.4.1"
  }
 },
 "nbformat": 4,
 "nbformat_minor": 2
}
